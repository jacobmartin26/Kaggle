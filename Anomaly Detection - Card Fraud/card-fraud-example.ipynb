{
 "cells": [
  {
   "cell_type": "markdown",
   "id": "7681dbc0",
   "metadata": {
    "papermill": {
     "duration": 0.003925,
     "end_time": "2025-03-13T19:12:55.895371",
     "exception": false,
     "start_time": "2025-03-13T19:12:55.891446",
     "status": "completed"
    },
    "tags": []
   },
   "source": [
    "## Create Synthetic Data to Mimic Card Fraud\n",
    "Synthetic credit card fraud dataset with features that mimic real transaction patterns, including amount, transaction type, and various behavioral indicators. The dataset will be imbalanced, with only about 1% of transactions marked as fraudulent."
   ]
  },
  {
   "cell_type": "code",
   "execution_count": 1,
   "id": "490c98bf",
   "metadata": {
    "execution": {
     "iopub.execute_input": "2025-03-13T19:12:55.902537Z",
     "iopub.status.busy": "2025-03-13T19:12:55.902195Z",
     "iopub.status.idle": "2025-03-13T19:12:59.732825Z",
     "shell.execute_reply": "2025-03-13T19:12:59.731729Z"
    },
    "papermill": {
     "duration": 3.836109,
     "end_time": "2025-03-13T19:12:59.734497",
     "exception": false,
     "start_time": "2025-03-13T19:12:55.898388",
     "status": "completed"
    },
    "tags": []
   },
   "outputs": [
    {
     "data": {
      "text/html": [
       "<div>\n",
       "<style scoped>\n",
       "    .dataframe tbody tr th:only-of-type {\n",
       "        vertical-align: middle;\n",
       "    }\n",
       "\n",
       "    .dataframe tbody tr th {\n",
       "        vertical-align: top;\n",
       "    }\n",
       "\n",
       "    .dataframe thead th {\n",
       "        text-align: right;\n",
       "    }\n",
       "</style>\n",
       "<table border=\"1\" class=\"dataframe\">\n",
       "  <thead>\n",
       "    <tr style=\"text-align: right;\">\n",
       "      <th></th>\n",
       "      <th>Time</th>\n",
       "      <th>V1</th>\n",
       "      <th>V2</th>\n",
       "      <th>V3</th>\n",
       "      <th>V4</th>\n",
       "      <th>V5</th>\n",
       "      <th>V6</th>\n",
       "      <th>V7</th>\n",
       "      <th>V8</th>\n",
       "      <th>V9</th>\n",
       "      <th>...</th>\n",
       "      <th>V21</th>\n",
       "      <th>V22</th>\n",
       "      <th>V23</th>\n",
       "      <th>V24</th>\n",
       "      <th>V25</th>\n",
       "      <th>V26</th>\n",
       "      <th>V27</th>\n",
       "      <th>V28</th>\n",
       "      <th>Amount</th>\n",
       "      <th>Class</th>\n",
       "    </tr>\n",
       "  </thead>\n",
       "  <tbody>\n",
       "    <tr>\n",
       "      <th>0</th>\n",
       "      <td>0.0</td>\n",
       "      <td>-1.359807</td>\n",
       "      <td>-0.072781</td>\n",
       "      <td>2.536347</td>\n",
       "      <td>1.378155</td>\n",
       "      <td>-0.338321</td>\n",
       "      <td>0.462388</td>\n",
       "      <td>0.239599</td>\n",
       "      <td>0.098698</td>\n",
       "      <td>0.363787</td>\n",
       "      <td>...</td>\n",
       "      <td>-0.018307</td>\n",
       "      <td>0.277838</td>\n",
       "      <td>-0.110474</td>\n",
       "      <td>0.066928</td>\n",
       "      <td>0.128539</td>\n",
       "      <td>-0.189115</td>\n",
       "      <td>0.133558</td>\n",
       "      <td>-0.021053</td>\n",
       "      <td>149.62</td>\n",
       "      <td>0</td>\n",
       "    </tr>\n",
       "    <tr>\n",
       "      <th>1</th>\n",
       "      <td>0.0</td>\n",
       "      <td>1.191857</td>\n",
       "      <td>0.266151</td>\n",
       "      <td>0.166480</td>\n",
       "      <td>0.448154</td>\n",
       "      <td>0.060018</td>\n",
       "      <td>-0.082361</td>\n",
       "      <td>-0.078803</td>\n",
       "      <td>0.085102</td>\n",
       "      <td>-0.255425</td>\n",
       "      <td>...</td>\n",
       "      <td>-0.225775</td>\n",
       "      <td>-0.638672</td>\n",
       "      <td>0.101288</td>\n",
       "      <td>-0.339846</td>\n",
       "      <td>0.167170</td>\n",
       "      <td>0.125895</td>\n",
       "      <td>-0.008983</td>\n",
       "      <td>0.014724</td>\n",
       "      <td>2.69</td>\n",
       "      <td>0</td>\n",
       "    </tr>\n",
       "    <tr>\n",
       "      <th>2</th>\n",
       "      <td>1.0</td>\n",
       "      <td>-1.358354</td>\n",
       "      <td>-1.340163</td>\n",
       "      <td>1.773209</td>\n",
       "      <td>0.379780</td>\n",
       "      <td>-0.503198</td>\n",
       "      <td>1.800499</td>\n",
       "      <td>0.791461</td>\n",
       "      <td>0.247676</td>\n",
       "      <td>-1.514654</td>\n",
       "      <td>...</td>\n",
       "      <td>0.247998</td>\n",
       "      <td>0.771679</td>\n",
       "      <td>0.909412</td>\n",
       "      <td>-0.689281</td>\n",
       "      <td>-0.327642</td>\n",
       "      <td>-0.139097</td>\n",
       "      <td>-0.055353</td>\n",
       "      <td>-0.059752</td>\n",
       "      <td>378.66</td>\n",
       "      <td>0</td>\n",
       "    </tr>\n",
       "    <tr>\n",
       "      <th>3</th>\n",
       "      <td>1.0</td>\n",
       "      <td>-0.966272</td>\n",
       "      <td>-0.185226</td>\n",
       "      <td>1.792993</td>\n",
       "      <td>-0.863291</td>\n",
       "      <td>-0.010309</td>\n",
       "      <td>1.247203</td>\n",
       "      <td>0.237609</td>\n",
       "      <td>0.377436</td>\n",
       "      <td>-1.387024</td>\n",
       "      <td>...</td>\n",
       "      <td>-0.108300</td>\n",
       "      <td>0.005274</td>\n",
       "      <td>-0.190321</td>\n",
       "      <td>-1.175575</td>\n",
       "      <td>0.647376</td>\n",
       "      <td>-0.221929</td>\n",
       "      <td>0.062723</td>\n",
       "      <td>0.061458</td>\n",
       "      <td>123.50</td>\n",
       "      <td>0</td>\n",
       "    </tr>\n",
       "    <tr>\n",
       "      <th>4</th>\n",
       "      <td>2.0</td>\n",
       "      <td>-1.158233</td>\n",
       "      <td>0.877737</td>\n",
       "      <td>1.548718</td>\n",
       "      <td>0.403034</td>\n",
       "      <td>-0.407193</td>\n",
       "      <td>0.095921</td>\n",
       "      <td>0.592941</td>\n",
       "      <td>-0.270533</td>\n",
       "      <td>0.817739</td>\n",
       "      <td>...</td>\n",
       "      <td>-0.009431</td>\n",
       "      <td>0.798278</td>\n",
       "      <td>-0.137458</td>\n",
       "      <td>0.141267</td>\n",
       "      <td>-0.206010</td>\n",
       "      <td>0.502292</td>\n",
       "      <td>0.219422</td>\n",
       "      <td>0.215153</td>\n",
       "      <td>69.99</td>\n",
       "      <td>0</td>\n",
       "    </tr>\n",
       "  </tbody>\n",
       "</table>\n",
       "<p>5 rows × 31 columns</p>\n",
       "</div>"
      ],
      "text/plain": [
       "   Time        V1        V2        V3        V4        V5        V6        V7  \\\n",
       "0   0.0 -1.359807 -0.072781  2.536347  1.378155 -0.338321  0.462388  0.239599   \n",
       "1   0.0  1.191857  0.266151  0.166480  0.448154  0.060018 -0.082361 -0.078803   \n",
       "2   1.0 -1.358354 -1.340163  1.773209  0.379780 -0.503198  1.800499  0.791461   \n",
       "3   1.0 -0.966272 -0.185226  1.792993 -0.863291 -0.010309  1.247203  0.237609   \n",
       "4   2.0 -1.158233  0.877737  1.548718  0.403034 -0.407193  0.095921  0.592941   \n",
       "\n",
       "         V8        V9  ...       V21       V22       V23       V24       V25  \\\n",
       "0  0.098698  0.363787  ... -0.018307  0.277838 -0.110474  0.066928  0.128539   \n",
       "1  0.085102 -0.255425  ... -0.225775 -0.638672  0.101288 -0.339846  0.167170   \n",
       "2  0.247676 -1.514654  ...  0.247998  0.771679  0.909412 -0.689281 -0.327642   \n",
       "3  0.377436 -1.387024  ... -0.108300  0.005274 -0.190321 -1.175575  0.647376   \n",
       "4 -0.270533  0.817739  ... -0.009431  0.798278 -0.137458  0.141267 -0.206010   \n",
       "\n",
       "        V26       V27       V28  Amount  Class  \n",
       "0 -0.189115  0.133558 -0.021053  149.62      0  \n",
       "1  0.125895 -0.008983  0.014724    2.69      0  \n",
       "2 -0.139097 -0.055353 -0.059752  378.66      0  \n",
       "3 -0.221929  0.062723  0.061458  123.50      0  \n",
       "4  0.502292  0.219422  0.215153   69.99      0  \n",
       "\n",
       "[5 rows x 31 columns]"
      ]
     },
     "execution_count": 1,
     "metadata": {},
     "output_type": "execute_result"
    }
   ],
   "source": [
    "import numpy as np\n",
    "import pandas as pd\n",
    "\n",
    "df = pd.read_csv('/kaggle/input/creditcardfraud/creditcard.csv')\n",
    "df.head()"
   ]
  },
  {
   "cell_type": "markdown",
   "id": "9661027b",
   "metadata": {
    "papermill": {
     "duration": 0.002938,
     "end_time": "2025-03-13T19:12:59.741322",
     "exception": false,
     "start_time": "2025-03-13T19:12:59.738384",
     "status": "completed"
    },
    "tags": []
   },
   "source": [
    "## Preprocess Data\n",
    "Scale the features and separate the training/test sets."
   ]
  },
  {
   "cell_type": "code",
   "execution_count": 2,
   "id": "f921f2fe",
   "metadata": {
    "execution": {
     "iopub.execute_input": "2025-03-13T19:12:59.748742Z",
     "iopub.status.busy": "2025-03-13T19:12:59.748428Z",
     "iopub.status.idle": "2025-03-13T19:13:01.127412Z",
     "shell.execute_reply": "2025-03-13T19:13:01.126753Z"
    },
    "papermill": {
     "duration": 1.384349,
     "end_time": "2025-03-13T19:13:01.128719",
     "exception": false,
     "start_time": "2025-03-13T19:12:59.744370",
     "status": "completed"
    },
    "tags": []
   },
   "outputs": [],
   "source": [
    "from sklearn.preprocessing import RobustScaler\n",
    "\n",
    "# RobustScaler is less prone to outliers.\n",
    "rob_scaler = RobustScaler()\n",
    "\n",
    "df['scaled_amount'] = rob_scaler.fit_transform(df['Amount'].values.reshape(-1,1))\n",
    "df['scaled_time'] = rob_scaler.fit_transform(df['Time'].values.reshape(-1,1))\n",
    "\n",
    "df.drop(['Time','Amount'], axis=1, inplace=True)"
   ]
  },
  {
   "cell_type": "code",
   "execution_count": 3,
   "id": "fc87db31",
   "metadata": {
    "execution": {
     "iopub.execute_input": "2025-03-13T19:13:01.136230Z",
     "iopub.status.busy": "2025-03-13T19:13:01.135787Z",
     "iopub.status.idle": "2025-03-13T19:13:01.475903Z",
     "shell.execute_reply": "2025-03-13T19:13:01.474851Z"
    },
    "papermill": {
     "duration": 0.345809,
     "end_time": "2025-03-13T19:13:01.477979",
     "exception": false,
     "start_time": "2025-03-13T19:13:01.132170",
     "status": "completed"
    },
    "tags": []
   },
   "outputs": [
    {
     "name": "stdout",
     "output_type": "stream",
     "text": [
      "No Frauds 99.83 % of the dataset\n",
      "Frauds 0.17 % of the dataset\n",
      "Train: [ 30473  30496  31002 ... 284804 284805 284806] Test: [    0     1     2 ... 57017 57018 57019]\n",
      "Train: [     0      1      2 ... 284804 284805 284806] Test: [ 30473  30496  31002 ... 113964 113965 113966]\n",
      "Train: [     0      1      2 ... 284804 284805 284806] Test: [ 81609  82400  83053 ... 170946 170947 170948]\n",
      "Train: [     0      1      2 ... 284804 284805 284806] Test: [150654 150660 150661 ... 227866 227867 227868]\n",
      "Train: [     0      1      2 ... 227866 227867 227868] Test: [212516 212644 213092 ... 284804 284805 284806]\n",
      "----------------------------------------------------------------------------------------------------\n",
      "Label Distributions: \n",
      "\n",
      "[0.99827076 0.00172924]\n",
      "[0.99827952 0.00172048]\n"
     ]
    }
   ],
   "source": [
    "from sklearn.model_selection import train_test_split\n",
    "from sklearn.model_selection import StratifiedKFold\n",
    "\n",
    "print('No Frauds', round(df['Class'].value_counts()[0]/len(df) * 100,2), '% of the dataset')\n",
    "print('Frauds', round(df['Class'].value_counts()[1]/len(df) * 100,2), '% of the dataset')\n",
    "\n",
    "X = df.drop('Class', axis=1)\n",
    "y = df['Class']\n",
    "\n",
    "sss = StratifiedKFold(n_splits=5, random_state=None, shuffle=False)\n",
    "\n",
    "for train_index, test_index in sss.split(X, y):\n",
    "    print(\"Train:\", train_index, \"Test:\", test_index)\n",
    "    original_Xtrain, original_Xtest = X.iloc[train_index], X.iloc[test_index]\n",
    "    original_ytrain, original_ytest = y.iloc[train_index], y.iloc[test_index]\n",
    "\n",
    "# We already have X_train and y_train for undersample data thats why I am using original to distinguish and to not overwrite these variables.\n",
    "\n",
    "# Check the Distribution of the labels\n",
    "# Turn into an array\n",
    "original_Xtrain = original_Xtrain.values\n",
    "original_Xtest = original_Xtest.values\n",
    "original_ytrain = original_ytrain.values\n",
    "original_ytest = original_ytest.values\n",
    "\n",
    "# See if both the train and test label distribution are similarly distributed\n",
    "train_unique_label, train_counts_label = np.unique(original_ytrain, return_counts=True)\n",
    "test_unique_label, test_counts_label = np.unique(original_ytest, return_counts=True)\n",
    "print('-' * 100)\n",
    "\n",
    "print('Label Distributions: \\n')\n",
    "print(train_counts_label/ len(original_ytrain))\n",
    "print(test_counts_label/ len(original_ytest))"
   ]
  },
  {
   "cell_type": "code",
   "execution_count": 4,
   "id": "85ae1514",
   "metadata": {
    "execution": {
     "iopub.execute_input": "2025-03-13T19:13:01.488669Z",
     "iopub.status.busy": "2025-03-13T19:13:01.488373Z",
     "iopub.status.idle": "2025-03-13T19:13:01.582602Z",
     "shell.execute_reply": "2025-03-13T19:13:01.581919Z"
    },
    "papermill": {
     "duration": 0.09964,
     "end_time": "2025-03-13T19:13:01.583639",
     "exception": false,
     "start_time": "2025-03-13T19:13:01.483999",
     "status": "completed"
    },
    "tags": []
   },
   "outputs": [
    {
     "data": {
      "text/html": [
       "<div>\n",
       "<style scoped>\n",
       "    .dataframe tbody tr th:only-of-type {\n",
       "        vertical-align: middle;\n",
       "    }\n",
       "\n",
       "    .dataframe tbody tr th {\n",
       "        vertical-align: top;\n",
       "    }\n",
       "\n",
       "    .dataframe thead th {\n",
       "        text-align: right;\n",
       "    }\n",
       "</style>\n",
       "<table border=\"1\" class=\"dataframe\">\n",
       "  <thead>\n",
       "    <tr style=\"text-align: right;\">\n",
       "      <th></th>\n",
       "      <th>V1</th>\n",
       "      <th>V2</th>\n",
       "      <th>V3</th>\n",
       "      <th>V4</th>\n",
       "      <th>V5</th>\n",
       "      <th>V6</th>\n",
       "      <th>V7</th>\n",
       "      <th>V8</th>\n",
       "      <th>V9</th>\n",
       "      <th>V10</th>\n",
       "      <th>...</th>\n",
       "      <th>V22</th>\n",
       "      <th>V23</th>\n",
       "      <th>V24</th>\n",
       "      <th>V25</th>\n",
       "      <th>V26</th>\n",
       "      <th>V27</th>\n",
       "      <th>V28</th>\n",
       "      <th>Class</th>\n",
       "      <th>scaled_amount</th>\n",
       "      <th>scaled_time</th>\n",
       "    </tr>\n",
       "  </thead>\n",
       "  <tbody>\n",
       "    <tr>\n",
       "      <th>146884</th>\n",
       "      <td>2.054361</td>\n",
       "      <td>-0.122642</td>\n",
       "      <td>-1.245717</td>\n",
       "      <td>0.189567</td>\n",
       "      <td>0.132497</td>\n",
       "      <td>-0.620765</td>\n",
       "      <td>0.059581</td>\n",
       "      <td>-0.148058</td>\n",
       "      <td>0.338940</td>\n",
       "      <td>0.247959</td>\n",
       "      <td>...</td>\n",
       "      <td>-0.687048</td>\n",
       "      <td>0.271569</td>\n",
       "      <td>-0.497120</td>\n",
       "      <td>-0.270115</td>\n",
       "      <td>0.208619</td>\n",
       "      <td>-0.076075</td>\n",
       "      <td>-0.075428</td>\n",
       "      <td>0</td>\n",
       "      <td>-0.293579</td>\n",
       "      <td>0.038170</td>\n",
       "    </tr>\n",
       "    <tr>\n",
       "      <th>95597</th>\n",
       "      <td>-2.923827</td>\n",
       "      <td>1.524837</td>\n",
       "      <td>-3.018758</td>\n",
       "      <td>3.289291</td>\n",
       "      <td>-5.755542</td>\n",
       "      <td>2.218276</td>\n",
       "      <td>-0.509995</td>\n",
       "      <td>-3.569444</td>\n",
       "      <td>-1.016592</td>\n",
       "      <td>-4.320536</td>\n",
       "      <td>...</td>\n",
       "      <td>-0.122724</td>\n",
       "      <td>-4.288639</td>\n",
       "      <td>0.563797</td>\n",
       "      <td>-0.949451</td>\n",
       "      <td>-0.204532</td>\n",
       "      <td>1.510206</td>\n",
       "      <td>-0.324706</td>\n",
       "      <td>1</td>\n",
       "      <td>18.615944</td>\n",
       "      <td>-0.226824</td>\n",
       "    </tr>\n",
       "    <tr>\n",
       "      <th>96768</th>\n",
       "      <td>0.955253</td>\n",
       "      <td>-0.833374</td>\n",
       "      <td>0.847147</td>\n",
       "      <td>0.725970</td>\n",
       "      <td>-1.322868</td>\n",
       "      <td>-0.238842</td>\n",
       "      <td>-0.565347</td>\n",
       "      <td>0.022443</td>\n",
       "      <td>-0.762247</td>\n",
       "      <td>0.738315</td>\n",
       "      <td>...</td>\n",
       "      <td>-0.129397</td>\n",
       "      <td>-0.040892</td>\n",
       "      <td>0.364872</td>\n",
       "      <td>0.204756</td>\n",
       "      <td>-0.304578</td>\n",
       "      <td>0.055908</td>\n",
       "      <td>0.062489</td>\n",
       "      <td>0</td>\n",
       "      <td>1.872424</td>\n",
       "      <td>-0.220456</td>\n",
       "    </tr>\n",
       "    <tr>\n",
       "      <th>75511</th>\n",
       "      <td>-1.229669</td>\n",
       "      <td>1.956099</td>\n",
       "      <td>-0.851198</td>\n",
       "      <td>2.796987</td>\n",
       "      <td>-1.913977</td>\n",
       "      <td>-0.044934</td>\n",
       "      <td>-1.340739</td>\n",
       "      <td>-0.555548</td>\n",
       "      <td>-1.184468</td>\n",
       "      <td>-3.245109</td>\n",
       "      <td>...</td>\n",
       "      <td>0.277612</td>\n",
       "      <td>0.019266</td>\n",
       "      <td>0.508529</td>\n",
       "      <td>-0.201183</td>\n",
       "      <td>-0.249600</td>\n",
       "      <td>0.562239</td>\n",
       "      <td>0.075309</td>\n",
       "      <td>1</td>\n",
       "      <td>2.080905</td>\n",
       "      <td>-0.335930</td>\n",
       "    </tr>\n",
       "    <tr>\n",
       "      <th>255556</th>\n",
       "      <td>-0.242245</td>\n",
       "      <td>4.147186</td>\n",
       "      <td>-5.672349</td>\n",
       "      <td>6.493741</td>\n",
       "      <td>1.591168</td>\n",
       "      <td>-1.602523</td>\n",
       "      <td>-0.950463</td>\n",
       "      <td>0.722903</td>\n",
       "      <td>-4.128505</td>\n",
       "      <td>-3.963224</td>\n",
       "      <td>...</td>\n",
       "      <td>-0.480286</td>\n",
       "      <td>-0.286080</td>\n",
       "      <td>-1.153575</td>\n",
       "      <td>-0.035571</td>\n",
       "      <td>0.559628</td>\n",
       "      <td>0.409446</td>\n",
       "      <td>0.221048</td>\n",
       "      <td>1</td>\n",
       "      <td>-0.296653</td>\n",
       "      <td>0.852830</td>\n",
       "    </tr>\n",
       "  </tbody>\n",
       "</table>\n",
       "<p>5 rows × 31 columns</p>\n",
       "</div>"
      ],
      "text/plain": [
       "              V1        V2        V3        V4        V5        V6        V7  \\\n",
       "146884  2.054361 -0.122642 -1.245717  0.189567  0.132497 -0.620765  0.059581   \n",
       "95597  -2.923827  1.524837 -3.018758  3.289291 -5.755542  2.218276 -0.509995   \n",
       "96768   0.955253 -0.833374  0.847147  0.725970 -1.322868 -0.238842 -0.565347   \n",
       "75511  -1.229669  1.956099 -0.851198  2.796987 -1.913977 -0.044934 -1.340739   \n",
       "255556 -0.242245  4.147186 -5.672349  6.493741  1.591168 -1.602523 -0.950463   \n",
       "\n",
       "              V8        V9       V10  ...       V22       V23       V24  \\\n",
       "146884 -0.148058  0.338940  0.247959  ... -0.687048  0.271569 -0.497120   \n",
       "95597  -3.569444 -1.016592 -4.320536  ... -0.122724 -4.288639  0.563797   \n",
       "96768   0.022443 -0.762247  0.738315  ... -0.129397 -0.040892  0.364872   \n",
       "75511  -0.555548 -1.184468 -3.245109  ...  0.277612  0.019266  0.508529   \n",
       "255556  0.722903 -4.128505 -3.963224  ... -0.480286 -0.286080 -1.153575   \n",
       "\n",
       "             V25       V26       V27       V28  Class  scaled_amount  \\\n",
       "146884 -0.270115  0.208619 -0.076075 -0.075428      0      -0.293579   \n",
       "95597  -0.949451 -0.204532  1.510206 -0.324706      1      18.615944   \n",
       "96768   0.204756 -0.304578  0.055908  0.062489      0       1.872424   \n",
       "75511  -0.201183 -0.249600  0.562239  0.075309      1       2.080905   \n",
       "255556 -0.035571  0.559628  0.409446  0.221048      1      -0.296653   \n",
       "\n",
       "        scaled_time  \n",
       "146884     0.038170  \n",
       "95597     -0.226824  \n",
       "96768     -0.220456  \n",
       "75511     -0.335930  \n",
       "255556     0.852830  \n",
       "\n",
       "[5 rows x 31 columns]"
      ]
     },
     "execution_count": 4,
     "metadata": {},
     "output_type": "execute_result"
    }
   ],
   "source": [
    "# Since our classes are highly skewed we should make them equivalent in order to have a normal distribution of the classes.\n",
    "\n",
    "# Lets shuffle the data before creating the subsamples\n",
    "df = df.sample(frac=1, random_state=42)\n",
    "\n",
    "# amount of fraud classes 492 rows.\n",
    "fraud_df = df.loc[df['Class'] == 1]\n",
    "non_fraud_df = df.loc[df['Class'] == 0][:492]\n",
    "\n",
    "normal_distributed_df = pd.concat([fraud_df, non_fraud_df])\n",
    "\n",
    "# Shuffle dataframe rows\n",
    "new_df = normal_distributed_df.sample(frac=1, random_state=42)\n",
    "\n",
    "new_df.head()"
   ]
  },
  {
   "cell_type": "code",
   "execution_count": 5,
   "id": "60a53dfb",
   "metadata": {
    "execution": {
     "iopub.execute_input": "2025-03-13T19:13:01.590994Z",
     "iopub.status.busy": "2025-03-13T19:13:01.590735Z",
     "iopub.status.idle": "2025-03-13T19:13:01.606993Z",
     "shell.execute_reply": "2025-03-13T19:13:01.606138Z"
    },
    "papermill": {
     "duration": 0.020897,
     "end_time": "2025-03-13T19:13:01.608026",
     "exception": false,
     "start_time": "2025-03-13T19:13:01.587129",
     "status": "completed"
    },
    "tags": []
   },
   "outputs": [
    {
     "name": "stdout",
     "output_type": "stream",
     "text": [
      "Quartile 25: -9.692722964972386 | Quartile 75: -4.282820849486865\n",
      "iqr: 5.409902115485521\n",
      "Cut Off: 8.114853173228282\n",
      "V14 Lower: -17.807576138200666\n",
      "V14 Upper: 3.8320323237414167\n",
      "Feature V14 Outliers for Fraud Cases: 4\n",
      "V10 outliers:[-19.2143254902614, -18.0499976898594, -18.4937733551053, -18.8220867423816]\n",
      "--------------------------------------------------------------------------------------------------------------------------------------------------------------------------------\n",
      "V12 Lower: -17.3430371579634\n",
      "V12 Upper: 5.776973384895937\n",
      "V12 outliers: [-18.6837146333443, -18.5536970096458, -18.0475965708216, -18.4311310279993]\n",
      "Feature V12 Outliers for Fraud Cases: 4\n",
      "Number of Instances after outliers removal: 976\n",
      "--------------------------------------------------------------------------------------------------------------------------------------------------------------------------------\n",
      "V10 Lower: -14.89885463232024\n",
      "V10 Upper: 4.92033495834214\n",
      "V10 outliers: [-15.5637913387301, -22.1870885620007, -24.4031849699728, -15.2399619587112, -16.3035376590131, -15.5637913387301, -18.9132433348732, -15.1241628144947, -22.1870885620007, -16.6496281595399, -22.1870885620007, -16.7460441053944, -16.6011969664137, -17.1415136412892, -18.2711681738888, -16.2556117491401, -15.1237521803455, -15.3460988468775, -14.9246547735487, -15.2399619587112, -22.1870885620007, -20.9491915543611, -19.836148851696, -15.2318333653018, -24.5882624372475, -14.9246547735487, -23.2282548357516]\n",
      "Feature V10 Outliers for Fraud Cases: 27\n",
      "Number of Instances after outliers removal: 947\n"
     ]
    }
   ],
   "source": [
    "# # -----> V14 Removing Outliers (Highest Negative Correlated with Labels)\n",
    "v14_fraud = new_df['V14'].loc[new_df['Class'] == 1].values\n",
    "q25, q75 = np.percentile(v14_fraud, 25), np.percentile(v14_fraud, 75)\n",
    "print('Quartile 25: {} | Quartile 75: {}'.format(q25, q75))\n",
    "v14_iqr = q75 - q25\n",
    "print('iqr: {}'.format(v14_iqr))\n",
    "\n",
    "v14_cut_off = v14_iqr * 1.5\n",
    "v14_lower, v14_upper = q25 - v14_cut_off, q75 + v14_cut_off\n",
    "print('Cut Off: {}'.format(v14_cut_off))\n",
    "print('V14 Lower: {}'.format(v14_lower))\n",
    "print('V14 Upper: {}'.format(v14_upper))\n",
    "\n",
    "outliers = [x for x in v14_fraud if x < v14_lower or x > v14_upper]\n",
    "print('Feature V14 Outliers for Fraud Cases: {}'.format(len(outliers)))\n",
    "print('V10 outliers:{}'.format(outliers))\n",
    "\n",
    "new_df = new_df.drop(new_df[(new_df['V14'] > v14_upper) | (new_df['V14'] < v14_lower)].index)\n",
    "print('----' * 44)\n",
    "\n",
    "# -----> V12 removing outliers from fraud transactions\n",
    "v12_fraud = new_df['V12'].loc[new_df['Class'] == 1].values\n",
    "q25, q75 = np.percentile(v12_fraud, 25), np.percentile(v12_fraud, 75)\n",
    "v12_iqr = q75 - q25\n",
    "\n",
    "v12_cut_off = v12_iqr * 1.5\n",
    "v12_lower, v12_upper = q25 - v12_cut_off, q75 + v12_cut_off\n",
    "print('V12 Lower: {}'.format(v12_lower))\n",
    "print('V12 Upper: {}'.format(v12_upper))\n",
    "outliers = [x for x in v12_fraud if x < v12_lower or x > v12_upper]\n",
    "print('V12 outliers: {}'.format(outliers))\n",
    "print('Feature V12 Outliers for Fraud Cases: {}'.format(len(outliers)))\n",
    "new_df = new_df.drop(new_df[(new_df['V12'] > v12_upper) | (new_df['V12'] < v12_lower)].index)\n",
    "print('Number of Instances after outliers removal: {}'.format(len(new_df)))\n",
    "print('----' * 44)\n",
    "\n",
    "\n",
    "# Removing outliers V10 Feature\n",
    "v10_fraud = new_df['V10'].loc[new_df['Class'] == 1].values\n",
    "q25, q75 = np.percentile(v10_fraud, 25), np.percentile(v10_fraud, 75)\n",
    "v10_iqr = q75 - q25\n",
    "\n",
    "v10_cut_off = v10_iqr * 1.5\n",
    "v10_lower, v10_upper = q25 - v10_cut_off, q75 + v10_cut_off\n",
    "print('V10 Lower: {}'.format(v10_lower))\n",
    "print('V10 Upper: {}'.format(v10_upper))\n",
    "outliers = [x for x in v10_fraud if x < v10_lower or x > v10_upper]\n",
    "print('V10 outliers: {}'.format(outliers))\n",
    "print('Feature V10 Outliers for Fraud Cases: {}'.format(len(outliers)))\n",
    "new_df = new_df.drop(new_df[(new_df['V10'] > v10_upper) | (new_df['V10'] < v10_lower)].index)\n",
    "print('Number of Instances after outliers removal: {}'.format(len(new_df)))"
   ]
  },
  {
   "cell_type": "code",
   "execution_count": 6,
   "id": "9dbb97bd",
   "metadata": {
    "execution": {
     "iopub.execute_input": "2025-03-13T19:13:01.615721Z",
     "iopub.status.busy": "2025-03-13T19:13:01.615503Z",
     "iopub.status.idle": "2025-03-13T19:13:05.124600Z",
     "shell.execute_reply": "2025-03-13T19:13:05.123796Z"
    },
    "papermill": {
     "duration": 3.514516,
     "end_time": "2025-03-13T19:13:05.126226",
     "exception": false,
     "start_time": "2025-03-13T19:13:01.611710",
     "status": "completed"
    },
    "tags": []
   },
   "outputs": [
    {
     "name": "stdout",
     "output_type": "stream",
     "text": [
      "T-SNE took 3.1 s\n",
      "PCA took 0.0043 s\n",
      "Truncated SVD took 0.0034 s\n"
     ]
    }
   ],
   "source": [
    "from sklearn.manifold import TSNE\n",
    "from sklearn.decomposition import PCA, TruncatedSVD\n",
    "import time\n",
    "\n",
    "# New_df is from the random undersample data (fewer instances)\n",
    "X = new_df.drop('Class', axis=1)\n",
    "y = new_df['Class']\n",
    "\n",
    "# T-SNE Implementation\n",
    "t0 = time.time()\n",
    "X_reduced_tsne = TSNE(n_components=2, random_state=42).fit_transform(X.values)\n",
    "t1 = time.time()\n",
    "print(\"T-SNE took {:.2} s\".format(t1 - t0))\n",
    "\n",
    "# PCA Implementation\n",
    "t0 = time.time()\n",
    "X_reduced_pca = PCA(n_components=2, random_state=42).fit_transform(X.values)\n",
    "t1 = time.time()\n",
    "print(\"PCA took {:.2} s\".format(t1 - t0))\n",
    "\n",
    "# TruncatedSVD\n",
    "t0 = time.time()\n",
    "X_reduced_svd = TruncatedSVD(n_components=2, algorithm='randomized', random_state=42).fit_transform(X.values)\n",
    "t1 = time.time()\n",
    "print(\"Truncated SVD took {:.2} s\".format(t1 - t0))"
   ]
  },
  {
   "cell_type": "code",
   "execution_count": 7,
   "id": "1c4b29be",
   "metadata": {
    "execution": {
     "iopub.execute_input": "2025-03-13T19:13:05.134242Z",
     "iopub.status.busy": "2025-03-13T19:13:05.133979Z",
     "iopub.status.idle": "2025-03-13T19:13:05.138147Z",
     "shell.execute_reply": "2025-03-13T19:13:05.137532Z"
    },
    "papermill": {
     "duration": 0.009188,
     "end_time": "2025-03-13T19:13:05.139184",
     "exception": false,
     "start_time": "2025-03-13T19:13:05.129996",
     "status": "completed"
    },
    "tags": []
   },
   "outputs": [],
   "source": [
    "# Undersampling before cross validating (prone to overfit)\n",
    "X = new_df.drop('Class', axis=1)\n",
    "y = new_df['Class']"
   ]
  },
  {
   "cell_type": "code",
   "execution_count": 8,
   "id": "c36eeaf8",
   "metadata": {
    "execution": {
     "iopub.execute_input": "2025-03-13T19:13:05.146550Z",
     "iopub.status.busy": "2025-03-13T19:13:05.146345Z",
     "iopub.status.idle": "2025-03-13T19:13:05.151070Z",
     "shell.execute_reply": "2025-03-13T19:13:05.150525Z"
    },
    "papermill": {
     "duration": 0.009502,
     "end_time": "2025-03-13T19:13:05.152167",
     "exception": false,
     "start_time": "2025-03-13T19:13:05.142665",
     "status": "completed"
    },
    "tags": []
   },
   "outputs": [],
   "source": [
    "# Our data is already scaled we should split our training and test sets\n",
    "from sklearn.model_selection import train_test_split\n",
    "\n",
    "# This is explicitly used for undersampling.\n",
    "X_train, X_test, y_train, y_test = train_test_split(X, y, test_size=0.2, random_state=42)"
   ]
  },
  {
   "cell_type": "code",
   "execution_count": 9,
   "id": "031e650e",
   "metadata": {
    "execution": {
     "iopub.execute_input": "2025-03-13T19:13:05.159571Z",
     "iopub.status.busy": "2025-03-13T19:13:05.159359Z",
     "iopub.status.idle": "2025-03-13T19:13:05.162529Z",
     "shell.execute_reply": "2025-03-13T19:13:05.161854Z"
    },
    "papermill": {
     "duration": 0.007779,
     "end_time": "2025-03-13T19:13:05.163508",
     "exception": false,
     "start_time": "2025-03-13T19:13:05.155729",
     "status": "completed"
    },
    "tags": []
   },
   "outputs": [],
   "source": [
    "# Turn the values into an array for feeding the classification algorithms.\n",
    "X_train = X_train.values\n",
    "X_test = X_test.values\n",
    "y_train = y_train.values\n",
    "y_test = y_test.values"
   ]
  },
  {
   "cell_type": "markdown",
   "id": "3b066d79",
   "metadata": {
    "papermill": {
     "duration": 0.003049,
     "end_time": "2025-03-13T19:13:05.169914",
     "exception": false,
     "start_time": "2025-03-13T19:13:05.166865",
     "status": "completed"
    },
    "tags": []
   },
   "source": [
    "## Train the Anomaly Detection Models\n",
    "Since fraud is rare, train both models **only on the majority class (normal transactions).**\n",
    "\n",
    "#### Train Isolation Forest"
   ]
  },
  {
   "cell_type": "code",
   "execution_count": 10,
   "id": "01dc42c1",
   "metadata": {
    "execution": {
     "iopub.execute_input": "2025-03-13T19:13:05.177053Z",
     "iopub.status.busy": "2025-03-13T19:13:05.176793Z",
     "iopub.status.idle": "2025-03-13T19:13:06.458534Z",
     "shell.execute_reply": "2025-03-13T19:13:06.457737Z"
    },
    "papermill": {
     "duration": 1.286716,
     "end_time": "2025-03-13T19:13:06.459835",
     "exception": false,
     "start_time": "2025-03-13T19:13:05.173119",
     "status": "completed"
    },
    "tags": []
   },
   "outputs": [
    {
     "data": {
      "text/html": [
       "<style>#sk-container-id-1 {color: black;background-color: white;}#sk-container-id-1 pre{padding: 0;}#sk-container-id-1 div.sk-toggleable {background-color: white;}#sk-container-id-1 label.sk-toggleable__label {cursor: pointer;display: block;width: 100%;margin-bottom: 0;padding: 0.3em;box-sizing: border-box;text-align: center;}#sk-container-id-1 label.sk-toggleable__label-arrow:before {content: \"▸\";float: left;margin-right: 0.25em;color: #696969;}#sk-container-id-1 label.sk-toggleable__label-arrow:hover:before {color: black;}#sk-container-id-1 div.sk-estimator:hover label.sk-toggleable__label-arrow:before {color: black;}#sk-container-id-1 div.sk-toggleable__content {max-height: 0;max-width: 0;overflow: hidden;text-align: left;background-color: #f0f8ff;}#sk-container-id-1 div.sk-toggleable__content pre {margin: 0.2em;color: black;border-radius: 0.25em;background-color: #f0f8ff;}#sk-container-id-1 input.sk-toggleable__control:checked~div.sk-toggleable__content {max-height: 200px;max-width: 100%;overflow: auto;}#sk-container-id-1 input.sk-toggleable__control:checked~label.sk-toggleable__label-arrow:before {content: \"▾\";}#sk-container-id-1 div.sk-estimator input.sk-toggleable__control:checked~label.sk-toggleable__label {background-color: #d4ebff;}#sk-container-id-1 div.sk-label input.sk-toggleable__control:checked~label.sk-toggleable__label {background-color: #d4ebff;}#sk-container-id-1 input.sk-hidden--visually {border: 0;clip: rect(1px 1px 1px 1px);clip: rect(1px, 1px, 1px, 1px);height: 1px;margin: -1px;overflow: hidden;padding: 0;position: absolute;width: 1px;}#sk-container-id-1 div.sk-estimator {font-family: monospace;background-color: #f0f8ff;border: 1px dotted black;border-radius: 0.25em;box-sizing: border-box;margin-bottom: 0.5em;}#sk-container-id-1 div.sk-estimator:hover {background-color: #d4ebff;}#sk-container-id-1 div.sk-parallel-item::after {content: \"\";width: 100%;border-bottom: 1px solid gray;flex-grow: 1;}#sk-container-id-1 div.sk-label:hover label.sk-toggleable__label {background-color: #d4ebff;}#sk-container-id-1 div.sk-serial::before {content: \"\";position: absolute;border-left: 1px solid gray;box-sizing: border-box;top: 0;bottom: 0;left: 50%;z-index: 0;}#sk-container-id-1 div.sk-serial {display: flex;flex-direction: column;align-items: center;background-color: white;padding-right: 0.2em;padding-left: 0.2em;position: relative;}#sk-container-id-1 div.sk-item {position: relative;z-index: 1;}#sk-container-id-1 div.sk-parallel {display: flex;align-items: stretch;justify-content: center;background-color: white;position: relative;}#sk-container-id-1 div.sk-item::before, #sk-container-id-1 div.sk-parallel-item::before {content: \"\";position: absolute;border-left: 1px solid gray;box-sizing: border-box;top: 0;bottom: 0;left: 50%;z-index: -1;}#sk-container-id-1 div.sk-parallel-item {display: flex;flex-direction: column;z-index: 1;position: relative;background-color: white;}#sk-container-id-1 div.sk-parallel-item:first-child::after {align-self: flex-end;width: 50%;}#sk-container-id-1 div.sk-parallel-item:last-child::after {align-self: flex-start;width: 50%;}#sk-container-id-1 div.sk-parallel-item:only-child::after {width: 0;}#sk-container-id-1 div.sk-dashed-wrapped {border: 1px dashed gray;margin: 0 0.4em 0.5em 0.4em;box-sizing: border-box;padding-bottom: 0.4em;background-color: white;}#sk-container-id-1 div.sk-label label {font-family: monospace;font-weight: bold;display: inline-block;line-height: 1.2em;}#sk-container-id-1 div.sk-label-container {text-align: center;}#sk-container-id-1 div.sk-container {/* jupyter's `normalize.less` sets `[hidden] { display: none; }` but bootstrap.min.css set `[hidden] { display: none !important; }` so we also need the `!important` here to be able to override the default hidden behavior on the sphinx rendered scikit-learn.org. See: https://github.com/scikit-learn/scikit-learn/issues/21755 */display: inline-block !important;position: relative;}#sk-container-id-1 div.sk-text-repr-fallback {display: none;}</style><div id=\"sk-container-id-1\" class=\"sk-top-container\"><div class=\"sk-text-repr-fallback\"><pre>IsolationForest(n_estimators=1000, random_state=42)</pre><b>In a Jupyter environment, please rerun this cell to show the HTML representation or trust the notebook. <br />On GitHub, the HTML representation is unable to render, please try loading this page with nbviewer.org.</b></div><div class=\"sk-container\" hidden><div class=\"sk-item\"><div class=\"sk-estimator sk-toggleable\"><input class=\"sk-toggleable__control sk-hidden--visually\" id=\"sk-estimator-id-1\" type=\"checkbox\" checked><label for=\"sk-estimator-id-1\" class=\"sk-toggleable__label sk-toggleable__label-arrow\">IsolationForest</label><div class=\"sk-toggleable__content\"><pre>IsolationForest(n_estimators=1000, random_state=42)</pre></div></div></div></div></div>"
      ],
      "text/plain": [
       "IsolationForest(n_estimators=1000, random_state=42)"
      ]
     },
     "execution_count": 10,
     "metadata": {},
     "output_type": "execute_result"
    }
   ],
   "source": [
    "from sklearn.ensemble import IsolationForest\n",
    "from sklearn.utils import resample\n",
    "\n",
    "X_train_normal = X_train[y_train == 0]\n",
    "X_train_sampled = resample(X_train_normal, n_samples=10000, random_state=42)  # Adjust sample size\n",
    "\n",
    "iso_forest = IsolationForest(n_estimators=1000, contamination='auto', random_state=42)\n",
    "iso_forest.fit(X_train_sampled)  # Train only on normal transactions"
   ]
  },
  {
   "cell_type": "markdown",
   "id": "147ff607",
   "metadata": {
    "papermill": {
     "duration": 0.0045,
     "end_time": "2025-03-13T19:13:06.468512",
     "exception": false,
     "start_time": "2025-03-13T19:13:06.464012",
     "status": "completed"
    },
    "tags": []
   },
   "source": [
    "#### Train One-Class SVM"
   ]
  },
  {
   "cell_type": "code",
   "execution_count": 11,
   "id": "ab089dc1",
   "metadata": {
    "execution": {
     "iopub.execute_input": "2025-03-13T19:13:06.477304Z",
     "iopub.status.busy": "2025-03-13T19:13:06.476926Z",
     "iopub.status.idle": "2025-03-13T19:13:06.513407Z",
     "shell.execute_reply": "2025-03-13T19:13:06.511951Z"
    },
    "papermill": {
     "duration": 0.04223,
     "end_time": "2025-03-13T19:13:06.514737",
     "exception": false,
     "start_time": "2025-03-13T19:13:06.472507",
     "status": "completed"
    },
    "tags": []
   },
   "outputs": [
    {
     "data": {
      "text/html": [
       "<style>#sk-container-id-2 {color: black;background-color: white;}#sk-container-id-2 pre{padding: 0;}#sk-container-id-2 div.sk-toggleable {background-color: white;}#sk-container-id-2 label.sk-toggleable__label {cursor: pointer;display: block;width: 100%;margin-bottom: 0;padding: 0.3em;box-sizing: border-box;text-align: center;}#sk-container-id-2 label.sk-toggleable__label-arrow:before {content: \"▸\";float: left;margin-right: 0.25em;color: #696969;}#sk-container-id-2 label.sk-toggleable__label-arrow:hover:before {color: black;}#sk-container-id-2 div.sk-estimator:hover label.sk-toggleable__label-arrow:before {color: black;}#sk-container-id-2 div.sk-toggleable__content {max-height: 0;max-width: 0;overflow: hidden;text-align: left;background-color: #f0f8ff;}#sk-container-id-2 div.sk-toggleable__content pre {margin: 0.2em;color: black;border-radius: 0.25em;background-color: #f0f8ff;}#sk-container-id-2 input.sk-toggleable__control:checked~div.sk-toggleable__content {max-height: 200px;max-width: 100%;overflow: auto;}#sk-container-id-2 input.sk-toggleable__control:checked~label.sk-toggleable__label-arrow:before {content: \"▾\";}#sk-container-id-2 div.sk-estimator input.sk-toggleable__control:checked~label.sk-toggleable__label {background-color: #d4ebff;}#sk-container-id-2 div.sk-label input.sk-toggleable__control:checked~label.sk-toggleable__label {background-color: #d4ebff;}#sk-container-id-2 input.sk-hidden--visually {border: 0;clip: rect(1px 1px 1px 1px);clip: rect(1px, 1px, 1px, 1px);height: 1px;margin: -1px;overflow: hidden;padding: 0;position: absolute;width: 1px;}#sk-container-id-2 div.sk-estimator {font-family: monospace;background-color: #f0f8ff;border: 1px dotted black;border-radius: 0.25em;box-sizing: border-box;margin-bottom: 0.5em;}#sk-container-id-2 div.sk-estimator:hover {background-color: #d4ebff;}#sk-container-id-2 div.sk-parallel-item::after {content: \"\";width: 100%;border-bottom: 1px solid gray;flex-grow: 1;}#sk-container-id-2 div.sk-label:hover label.sk-toggleable__label {background-color: #d4ebff;}#sk-container-id-2 div.sk-serial::before {content: \"\";position: absolute;border-left: 1px solid gray;box-sizing: border-box;top: 0;bottom: 0;left: 50%;z-index: 0;}#sk-container-id-2 div.sk-serial {display: flex;flex-direction: column;align-items: center;background-color: white;padding-right: 0.2em;padding-left: 0.2em;position: relative;}#sk-container-id-2 div.sk-item {position: relative;z-index: 1;}#sk-container-id-2 div.sk-parallel {display: flex;align-items: stretch;justify-content: center;background-color: white;position: relative;}#sk-container-id-2 div.sk-item::before, #sk-container-id-2 div.sk-parallel-item::before {content: \"\";position: absolute;border-left: 1px solid gray;box-sizing: border-box;top: 0;bottom: 0;left: 50%;z-index: -1;}#sk-container-id-2 div.sk-parallel-item {display: flex;flex-direction: column;z-index: 1;position: relative;background-color: white;}#sk-container-id-2 div.sk-parallel-item:first-child::after {align-self: flex-end;width: 50%;}#sk-container-id-2 div.sk-parallel-item:last-child::after {align-self: flex-start;width: 50%;}#sk-container-id-2 div.sk-parallel-item:only-child::after {width: 0;}#sk-container-id-2 div.sk-dashed-wrapped {border: 1px dashed gray;margin: 0 0.4em 0.5em 0.4em;box-sizing: border-box;padding-bottom: 0.4em;background-color: white;}#sk-container-id-2 div.sk-label label {font-family: monospace;font-weight: bold;display: inline-block;line-height: 1.2em;}#sk-container-id-2 div.sk-label-container {text-align: center;}#sk-container-id-2 div.sk-container {/* jupyter's `normalize.less` sets `[hidden] { display: none; }` but bootstrap.min.css set `[hidden] { display: none !important; }` so we also need the `!important` here to be able to override the default hidden behavior on the sphinx rendered scikit-learn.org. See: https://github.com/scikit-learn/scikit-learn/issues/21755 */display: inline-block !important;position: relative;}#sk-container-id-2 div.sk-text-repr-fallback {display: none;}</style><div id=\"sk-container-id-2\" class=\"sk-top-container\"><div class=\"sk-text-repr-fallback\"><pre>OneClassSVM(nu=0.001)</pre><b>In a Jupyter environment, please rerun this cell to show the HTML representation or trust the notebook. <br />On GitHub, the HTML representation is unable to render, please try loading this page with nbviewer.org.</b></div><div class=\"sk-container\" hidden><div class=\"sk-item\"><div class=\"sk-estimator sk-toggleable\"><input class=\"sk-toggleable__control sk-hidden--visually\" id=\"sk-estimator-id-2\" type=\"checkbox\" checked><label for=\"sk-estimator-id-2\" class=\"sk-toggleable__label sk-toggleable__label-arrow\">OneClassSVM</label><div class=\"sk-toggleable__content\"><pre>OneClassSVM(nu=0.001)</pre></div></div></div></div></div>"
      ],
      "text/plain": [
       "OneClassSVM(nu=0.001)"
      ]
     },
     "execution_count": 11,
     "metadata": {},
     "output_type": "execute_result"
    }
   ],
   "source": [
    "from sklearn.svm import OneClassSVM\n",
    "\n",
    "oc_svm = OneClassSVM(kernel=\"rbf\", gamma=\"scale\", nu=0.001)  # nu controls the fraction of outliers\n",
    "oc_svm.fit(X_train_sampled)  # Train only on normal transactions"
   ]
  },
  {
   "cell_type": "markdown",
   "id": "14629075",
   "metadata": {
    "papermill": {
     "duration": 0.003672,
     "end_time": "2025-03-13T19:13:06.523593",
     "exception": false,
     "start_time": "2025-03-13T19:13:06.519921",
     "status": "completed"
    },
    "tags": []
   },
   "source": [
    "## Generate Anomaly Scores\n",
    "Both models produce anomaly scores, which we normalize for consistency."
   ]
  },
  {
   "cell_type": "code",
   "execution_count": 12,
   "id": "918976c4",
   "metadata": {
    "execution": {
     "iopub.execute_input": "2025-03-13T19:13:06.531785Z",
     "iopub.status.busy": "2025-03-13T19:13:06.531515Z",
     "iopub.status.idle": "2025-03-13T19:13:06.909836Z",
     "shell.execute_reply": "2025-03-13T19:13:06.908947Z"
    },
    "papermill": {
     "duration": 0.384193,
     "end_time": "2025-03-13T19:13:06.911318",
     "exception": false,
     "start_time": "2025-03-13T19:13:06.527125",
     "status": "completed"
    },
    "tags": []
   },
   "outputs": [
    {
     "name": "stdout",
     "output_type": "stream",
     "text": [
      "Classifier: LogisticRegression has a training score of 94.0 % accuracy score\n",
      "              precision    recall  f1-score   support\n",
      "\n",
      "           0       0.88      0.98      0.93        91\n",
      "           1       0.98      0.88      0.93        99\n",
      "\n",
      "    accuracy                           0.93       190\n",
      "   macro avg       0.93      0.93      0.93       190\n",
      "weighted avg       0.93      0.93      0.93       190\n",
      "\n",
      "ROC-AUC Score: 0.9527139527139528\n"
     ]
    }
   ],
   "source": [
    "from sklearn.linear_model import LogisticRegression\n",
    "from sklearn.metrics import classification_report, roc_auc_score, precision_recall_curve\n",
    "from sklearn.model_selection import cross_val_score\n",
    "\n",
    "# Get anomaly scores (-1 = anomaly, 1 = normal)\n",
    "iso_scores = iso_forest.decision_function(X_test)  # Higher = more normal\n",
    "ocsvm_scores = oc_svm.decision_function(X_test)   # Higher = more normal\n",
    "\n",
    "# Normalize scores to 0-1 range\n",
    "iso_scores = (iso_scores - iso_scores.min()) / (iso_scores.max() - iso_scores.min())\n",
    "ocsvm_scores = (ocsvm_scores - ocsvm_scores.min()) / (ocsvm_scores.max() - ocsvm_scores.min())\n",
    "\n",
    "# Train logistic regression to combine model scores\n",
    "log_reg = LogisticRegression(random_state=42)\n",
    "log_reg.fit((ocsvm_scores).reshape(-1,1), y_test)  # Use both scores as features\n",
    "\n",
    "training_score = cross_val_score(log_reg, X_train, y_train, cv=5)\n",
    "print(\"Classifier:\", log_reg.__class__.__name__, \"has a training score of\", round(training_score.mean(), 2) * 100, \"% accuracy score\")\n",
    "\n",
    "# Predict new anomaly scores\n",
    "final_scores = log_reg.predict_proba(ocsvm_scores.reshape(-1,1))[:, 1]\n",
    "\n",
    "# Precision-Recall Curve\n",
    "precision, recall, thresholds = precision_recall_curve(y_test, final_scores)\n",
    "\n",
    "# Find the best threshold\n",
    "f1_scores = 2 * (precision * recall) / (precision + recall + 1e-9)  # Avoid divide by zero\n",
    "best_threshold = thresholds[np.argmax(f1_scores)]\n",
    "\n",
    "# Convert to predictions (lower scores = more anomalous)\n",
    "y_pred = (final_scores > best_threshold).astype(int)  # 1 = fraud, 0 = normal\n",
    "\n",
    "print(classification_report(y_test, y_pred))\n",
    "print(\"ROC-AUC Score:\", roc_auc_score(y_test, final_scores))"
   ]
  },
  {
   "cell_type": "markdown",
   "id": "4606a5ea",
   "metadata": {
    "papermill": {
     "duration": 0.003603,
     "end_time": "2025-03-13T19:13:06.919644",
     "exception": false,
     "start_time": "2025-03-13T19:13:06.916041",
     "status": "completed"
    },
    "tags": []
   },
   "source": [
    "## Plot Results and Find Best Threshold Value for Better Tuning"
   ]
  },
  {
   "cell_type": "code",
   "execution_count": 13,
   "id": "931f3ca2",
   "metadata": {
    "execution": {
     "iopub.execute_input": "2025-03-13T19:13:06.929660Z",
     "iopub.status.busy": "2025-03-13T19:13:06.929357Z",
     "iopub.status.idle": "2025-03-13T19:13:07.671613Z",
     "shell.execute_reply": "2025-03-13T19:13:07.670858Z"
    },
    "papermill": {
     "duration": 0.749884,
     "end_time": "2025-03-13T19:13:07.673404",
     "exception": false,
     "start_time": "2025-03-13T19:13:06.923520",
     "status": "completed"
    },
    "tags": []
   },
   "outputs": [
    {
     "data": {
      "image/png": "[encoded data removed]",
      "text/plain": [
       "<Figure size 800x600 with 1 Axes>"
      ]
     },
     "metadata": {},
     "output_type": "display_data"
    },
    {
     "name": "stdout",
     "output_type": "stream",
     "text": [
      "Best Threshold: 0.56\n"
     ]
    }
   ],
   "source": [
    "import matplotlib.pyplot as plt\n",
    "import seaborn as sns\n",
    "\n",
    "# Plot the curve\n",
    "plt.figure(figsize=(8, 6))\n",
    "plt.plot(thresholds, precision[:-1], label=\"Precision\", linestyle=\"--\")\n",
    "plt.plot(thresholds, recall[:-1], label=\"Recall\", linestyle=\"-.\")\n",
    "plt.plot(thresholds, f1_scores[:-1], label=\"F1 Score\", linewidth=2)\n",
    "plt.axvline(best_threshold, color=\"red\", linestyle=\":\", label=f\"Best Threshold = {best_threshold:.2f}\")\n",
    "plt.xlabel(\"Threshold\")\n",
    "plt.ylabel(\"Score\")\n",
    "plt.title(\"Precision-Recall Curve with Best Threshold\")\n",
    "plt.legend()\n",
    "plt.grid()\n",
    "plt.show()\n",
    "\n",
    "print(f\"Best Threshold: {best_threshold:.2f}\")"
   ]
  },
  {
   "cell_type": "code",
   "execution_count": null,
   "id": "4deedee0",
   "metadata": {
    "papermill": {
     "duration": 0.004461,
     "end_time": "2025-03-13T19:13:07.682847",
     "exception": false,
     "start_time": "2025-03-13T19:13:07.678386",
     "status": "completed"
    },
    "tags": []
   },
   "outputs": [],
   "source": []
  }
 ],
 "metadata": {
  "kaggle": {
   "accelerator": "none",
   "dataSources": [
    {
     "datasetId": 310,
     "sourceId": 23498,
     "sourceType": "datasetVersion"
    }
   ],
   "dockerImageVersionId": 30918,
   "isGpuEnabled": false,
   "isInternetEnabled": true,
   "language": "python",
   "sourceType": "notebook"
  },
  "kernelspec": {
   "display_name": "Python 3",
   "language": "python",
   "name": "python3"
  },
  "language_info": {
   "codemirror_mode": {
    "name": "ipython",
    "version": 3
   },
   "file_extension": ".py",
   "mimetype": "text/x-python",
   "name": "python",
   "nbconvert_exporter": "python",
   "pygments_lexer": "ipython3",
   "version": "3.10.12"
  },
  "papermill": {
   "default_parameters": {},
   "duration": 14.622153,
   "end_time": "2025-03-13T19:13:08.305386",
   "environment_variables": {},
   "exception": null,
   "input_path": "__notebook__.ipynb",
   "output_path": "__notebook__.ipynb",
   "parameters": {},
   "start_time": "2025-03-13T19:12:53.683233",
   "version": "2.6.0"
  }
 },
 "nbformat": 4,
 "nbformat_minor": 5
}
