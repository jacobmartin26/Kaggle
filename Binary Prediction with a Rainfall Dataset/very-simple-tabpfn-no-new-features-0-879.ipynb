{
 "cells": [
  {
   "cell_type": "code",
   "execution_count": 1,
   "id": "44fedef2",
   "metadata": {
    "_cell_guid": "b1076dfc-b9ad-4769-8c92-a6c4dae69d19",
    "_uuid": "8f2839f25d086af736a60e9eeb907d3b93b6e0e5",
    "execution": {
     "iopub.execute_input": "2025-03-03T19:45:17.571422Z",
     "iopub.status.busy": "2025-03-03T19:45:17.570927Z",
     "iopub.status.idle": "2025-03-03T19:45:18.814453Z",
     "shell.execute_reply": "2025-03-03T19:45:18.813329Z"
    },
    "papermill": {
     "duration": 1.25231,
     "end_time": "2025-03-03T19:45:18.816023",
     "exception": false,
     "start_time": "2025-03-03T19:45:17.563713",
     "status": "completed"
    },
    "tags": []
   },
   "outputs": [
    {
     "name": "stdout",
     "output_type": "stream",
     "text": [
      "/kaggle/input/playground-series-s5e3/sample_submission.csv\n",
      "/kaggle/input/playground-series-s5e3/train.csv\n",
      "/kaggle/input/playground-series-s5e3/test.csv\n"
     ]
    }
   ],
   "source": [
    "# This Python 3 environment comes with many helpful analytics libraries installed\n",
    "# It is defined by the kaggle/python Docker image: https://github.com/kaggle/docker-python\n",
    "# For example, here's several helpful packages to load\n",
    "\n",
    "import numpy as np # linear algebra\n",
    "import pandas as pd # data processing, CSV file I/O (e.g. pd.read_csv)\n",
    "\n",
    "# Input data files are available in the read-only \"../input/\" directory\n",
    "# For example, running this (by clicking run or pressing Shift+Enter) will list all files under the input directory\n",
    "\n",
    "import os\n",
    "for dirname, _, filenames in os.walk('/kaggle/input'):\n",
    "    for filename in filenames:\n",
    "        print(os.path.join(dirname, filename))\n",
    "\n",
    "# You can write up to 20GB to the current directory (/kaggle/working/) that gets preserved as output when you create a version using \"Save & Run All\" \n",
    "# You can also write temporary files to /kaggle/temp/, but they won't be saved outside of the current session"
   ]
  },
  {
   "cell_type": "code",
   "execution_count": 2,
   "id": "ebc5c299",
   "metadata": {
    "execution": {
     "iopub.execute_input": "2025-03-03T19:45:18.827042Z",
     "iopub.status.busy": "2025-03-03T19:45:18.826578Z",
     "iopub.status.idle": "2025-03-03T19:45:26.320799Z",
     "shell.execute_reply": "2025-03-03T19:45:26.319444Z"
    },
    "papermill": {
     "duration": 7.501847,
     "end_time": "2025-03-03T19:45:26.322875",
     "exception": false,
     "start_time": "2025-03-03T19:45:18.821028",
     "status": "completed"
    },
    "tags": []
   },
   "outputs": [
    {
     "name": "stdout",
     "output_type": "stream",
     "text": [
      "Collecting tabpfn\r\n",
      "  Downloading tabpfn-2.0.6-py3-none-any.whl.metadata (20 kB)\r\n",
      "Requirement already satisfied: torch<3,>=2.1 in /usr/local/lib/python3.10/dist-packages (from tabpfn) (2.5.1+cu121)\r\n",
      "Requirement already satisfied: scikit-learn<1.7,>=1.2.0 in /usr/local/lib/python3.10/dist-packages (from tabpfn) (1.2.2)\r\n",
      "Requirement already satisfied: typing_extensions>=4.4.0 in /usr/local/lib/python3.10/dist-packages (from tabpfn) (4.12.2)\r\n",
      "Requirement already satisfied: scipy<2,>=1.7.3 in /usr/local/lib/python3.10/dist-packages (from tabpfn) (1.13.1)\r\n",
      "Requirement already satisfied: pandas<3,>=1.4.0 in /usr/local/lib/python3.10/dist-packages (from tabpfn) (2.2.3)\r\n",
      "Requirement already satisfied: einops<0.9,>=0.2.0 in /usr/local/lib/python3.10/dist-packages (from tabpfn) (0.8.0)\r\n",
      "Requirement already satisfied: huggingface-hub<1,>=0.0.1 in /usr/local/lib/python3.10/dist-packages (from tabpfn) (0.29.0)\r\n",
      "Requirement already satisfied: filelock in /usr/local/lib/python3.10/dist-packages (from huggingface-hub<1,>=0.0.1->tabpfn) (3.17.0)\r\n",
      "Requirement already satisfied: fsspec>=2023.5.0 in /usr/local/lib/python3.10/dist-packages (from huggingface-hub<1,>=0.0.1->tabpfn) (2024.12.0)\r\n",
      "Requirement already satisfied: packaging>=20.9 in /usr/local/lib/python3.10/dist-packages (from huggingface-hub<1,>=0.0.1->tabpfn) (24.2)\r\n",
      "Requirement already satisfied: pyyaml>=5.1 in /usr/local/lib/python3.10/dist-packages (from huggingface-hub<1,>=0.0.1->tabpfn) (6.0.2)\r\n",
      "Requirement already satisfied: requests in /usr/local/lib/python3.10/dist-packages (from huggingface-hub<1,>=0.0.1->tabpfn) (2.32.3)\r\n",
      "Requirement already satisfied: tqdm>=4.42.1 in /usr/local/lib/python3.10/dist-packages (from huggingface-hub<1,>=0.0.1->tabpfn) (4.67.1)\r\n",
      "Requirement already satisfied: numpy>=1.22.4 in /usr/local/lib/python3.10/dist-packages (from pandas<3,>=1.4.0->tabpfn) (1.26.4)\r\n",
      "Requirement already satisfied: python-dateutil>=2.8.2 in /usr/local/lib/python3.10/dist-packages (from pandas<3,>=1.4.0->tabpfn) (2.9.0.post0)\r\n",
      "Requirement already satisfied: pytz>=2020.1 in /usr/local/lib/python3.10/dist-packages (from pandas<3,>=1.4.0->tabpfn) (2025.1)\r\n",
      "Requirement already satisfied: tzdata>=2022.7 in /usr/local/lib/python3.10/dist-packages (from pandas<3,>=1.4.0->tabpfn) (2025.1)\r\n",
      "Requirement already satisfied: joblib>=1.1.1 in /usr/local/lib/python3.10/dist-packages (from scikit-learn<1.7,>=1.2.0->tabpfn) (1.4.2)\r\n",
      "Requirement already satisfied: threadpoolctl>=2.0.0 in /usr/local/lib/python3.10/dist-packages (from scikit-learn<1.7,>=1.2.0->tabpfn) (3.5.0)\r\n",
      "Requirement already satisfied: networkx in /usr/local/lib/python3.10/dist-packages (from torch<3,>=2.1->tabpfn) (3.4.2)\r\n",
      "Requirement already satisfied: jinja2 in /usr/local/lib/python3.10/dist-packages (from torch<3,>=2.1->tabpfn) (3.1.4)\r\n",
      "Requirement already satisfied: sympy==1.13.1 in /usr/local/lib/python3.10/dist-packages (from torch<3,>=2.1->tabpfn) (1.13.1)\r\n",
      "Requirement already satisfied: mpmath<1.4,>=1.1.0 in /usr/local/lib/python3.10/dist-packages (from sympy==1.13.1->torch<3,>=2.1->tabpfn) (1.3.0)\r\n",
      "Requirement already satisfied: mkl_fft in /usr/local/lib/python3.10/dist-packages (from numpy>=1.22.4->pandas<3,>=1.4.0->tabpfn) (1.3.8)\r\n",
      "Requirement already satisfied: mkl_random in /usr/local/lib/python3.10/dist-packages (from numpy>=1.22.4->pandas<3,>=1.4.0->tabpfn) (1.2.4)\r\n",
      "Requirement already satisfied: mkl_umath in /usr/local/lib/python3.10/dist-packages (from numpy>=1.22.4->pandas<3,>=1.4.0->tabpfn) (0.1.1)\r\n",
      "Requirement already satisfied: mkl in /usr/local/lib/python3.10/dist-packages (from numpy>=1.22.4->pandas<3,>=1.4.0->tabpfn) (2025.0.1)\r\n",
      "Requirement already satisfied: tbb4py in /usr/local/lib/python3.10/dist-packages (from numpy>=1.22.4->pandas<3,>=1.4.0->tabpfn) (2022.0.0)\r\n",
      "Requirement already satisfied: mkl-service in /usr/local/lib/python3.10/dist-packages (from numpy>=1.22.4->pandas<3,>=1.4.0->tabpfn) (2.4.1)\r\n",
      "Requirement already satisfied: six>=1.5 in /usr/local/lib/python3.10/dist-packages (from python-dateutil>=2.8.2->pandas<3,>=1.4.0->tabpfn) (1.17.0)\r\n",
      "Requirement already satisfied: MarkupSafe>=2.0 in /usr/local/lib/python3.10/dist-packages (from jinja2->torch<3,>=2.1->tabpfn) (3.0.2)\r\n",
      "Requirement already satisfied: charset-normalizer<4,>=2 in /usr/local/lib/python3.10/dist-packages (from requests->huggingface-hub<1,>=0.0.1->tabpfn) (3.4.1)\r\n",
      "Requirement already satisfied: idna<4,>=2.5 in /usr/local/lib/python3.10/dist-packages (from requests->huggingface-hub<1,>=0.0.1->tabpfn) (3.10)\r\n",
      "Requirement already satisfied: urllib3<3,>=1.21.1 in /usr/local/lib/python3.10/dist-packages (from requests->huggingface-hub<1,>=0.0.1->tabpfn) (2.3.0)\r\n",
      "Requirement already satisfied: certifi>=2017.4.17 in /usr/local/lib/python3.10/dist-packages (from requests->huggingface-hub<1,>=0.0.1->tabpfn) (2025.1.31)\r\n",
      "Requirement already satisfied: intel-openmp>=2024 in /usr/local/lib/python3.10/dist-packages (from mkl->numpy>=1.22.4->pandas<3,>=1.4.0->tabpfn) (2024.2.0)\r\n",
      "Requirement already satisfied: tbb==2022.* in /usr/local/lib/python3.10/dist-packages (from mkl->numpy>=1.22.4->pandas<3,>=1.4.0->tabpfn) (2022.0.0)\r\n",
      "Requirement already satisfied: tcmlib==1.* in /usr/local/lib/python3.10/dist-packages (from tbb==2022.*->mkl->numpy>=1.22.4->pandas<3,>=1.4.0->tabpfn) (1.2.0)\r\n",
      "Requirement already satisfied: intel-cmplr-lib-rt in /usr/local/lib/python3.10/dist-packages (from mkl_umath->numpy>=1.22.4->pandas<3,>=1.4.0->tabpfn) (2024.2.0)\r\n",
      "Requirement already satisfied: intel-cmplr-lib-ur==2024.2.0 in /usr/local/lib/python3.10/dist-packages (from intel-openmp>=2024->mkl->numpy>=1.22.4->pandas<3,>=1.4.0->tabpfn) (2024.2.0)\r\n",
      "Downloading tabpfn-2.0.6-py3-none-any.whl (124 kB)\r\n",
      "\u001b[2K   \u001b[90m━━━━━━━━━━━━━━━━━━━━━━━━━━━━━━━━━━━━━━━━\u001b[0m \u001b[32m124.9/124.9 kB\u001b[0m \u001b[31m3.2 MB/s\u001b[0m eta \u001b[36m0:00:00\u001b[0m\r\n",
      "\u001b[?25hInstalling collected packages: tabpfn\r\n",
      "Successfully installed tabpfn-2.0.6\r\n"
     ]
    }
   ],
   "source": [
    "!pip install tabpfn"
   ]
  },
  {
   "cell_type": "code",
   "execution_count": 3,
   "id": "50b036a2",
   "metadata": {
    "execution": {
     "iopub.execute_input": "2025-03-03T19:45:26.336014Z",
     "iopub.status.busy": "2025-03-03T19:45:26.335583Z",
     "iopub.status.idle": "2025-03-03T19:45:26.483383Z",
     "shell.execute_reply": "2025-03-03T19:45:26.482318Z"
    },
    "papermill": {
     "duration": 0.156195,
     "end_time": "2025-03-03T19:45:26.484971",
     "exception": false,
     "start_time": "2025-03-03T19:45:26.328776",
     "status": "completed"
    },
    "tags": []
   },
   "outputs": [
    {
     "name": "stdout",
     "output_type": "stream",
     "text": [
      "<class 'pandas.core.frame.DataFrame'>\n",
      "RangeIndex: 2190 entries, 0 to 2189\n",
      "Data columns (total 13 columns):\n",
      " #   Column         Non-Null Count  Dtype  \n",
      "---  ------         --------------  -----  \n",
      " 0   id             2190 non-null   int64  \n",
      " 1   day            2190 non-null   int64  \n",
      " 2   pressure       2190 non-null   float64\n",
      " 3   maxtemp        2190 non-null   float64\n",
      " 4   temparature    2190 non-null   float64\n",
      " 5   mintemp        2190 non-null   float64\n",
      " 6   dewpoint       2190 non-null   float64\n",
      " 7   humidity       2190 non-null   float64\n",
      " 8   cloud          2190 non-null   float64\n",
      " 9   sunshine       2190 non-null   float64\n",
      " 10  winddirection  2190 non-null   float64\n",
      " 11  windspeed      2190 non-null   float64\n",
      " 12  rainfall       2190 non-null   int64  \n",
      "dtypes: float64(10), int64(3)\n",
      "memory usage: 222.5 KB\n"
     ]
    },
    {
     "data": {
      "text/plain": [
       "None"
      ]
     },
     "metadata": {},
     "output_type": "display_data"
    },
    {
     "data": {
      "text/html": [
       "<div>\n",
       "<style scoped>\n",
       "    .dataframe tbody tr th:only-of-type {\n",
       "        vertical-align: middle;\n",
       "    }\n",
       "\n",
       "    .dataframe tbody tr th {\n",
       "        vertical-align: top;\n",
       "    }\n",
       "\n",
       "    .dataframe thead th {\n",
       "        text-align: right;\n",
       "    }\n",
       "</style>\n",
       "<table border=\"1\" class=\"dataframe\">\n",
       "  <thead>\n",
       "    <tr style=\"text-align: right;\">\n",
       "      <th></th>\n",
       "      <th>id</th>\n",
       "      <th>day</th>\n",
       "      <th>pressure</th>\n",
       "      <th>maxtemp</th>\n",
       "      <th>temparature</th>\n",
       "      <th>mintemp</th>\n",
       "      <th>dewpoint</th>\n",
       "      <th>humidity</th>\n",
       "      <th>cloud</th>\n",
       "      <th>sunshine</th>\n",
       "      <th>winddirection</th>\n",
       "      <th>windspeed</th>\n",
       "      <th>rainfall</th>\n",
       "    </tr>\n",
       "  </thead>\n",
       "  <tbody>\n",
       "    <tr>\n",
       "      <th>0</th>\n",
       "      <td>0</td>\n",
       "      <td>1</td>\n",
       "      <td>1017.4</td>\n",
       "      <td>21.2</td>\n",
       "      <td>20.6</td>\n",
       "      <td>19.9</td>\n",
       "      <td>19.4</td>\n",
       "      <td>87.0</td>\n",
       "      <td>88.0</td>\n",
       "      <td>1.1</td>\n",
       "      <td>60.0</td>\n",
       "      <td>17.2</td>\n",
       "      <td>1</td>\n",
       "    </tr>\n",
       "    <tr>\n",
       "      <th>1</th>\n",
       "      <td>1</td>\n",
       "      <td>2</td>\n",
       "      <td>1019.5</td>\n",
       "      <td>16.2</td>\n",
       "      <td>16.9</td>\n",
       "      <td>15.8</td>\n",
       "      <td>15.4</td>\n",
       "      <td>95.0</td>\n",
       "      <td>91.0</td>\n",
       "      <td>0.0</td>\n",
       "      <td>50.0</td>\n",
       "      <td>21.9</td>\n",
       "      <td>1</td>\n",
       "    </tr>\n",
       "    <tr>\n",
       "      <th>2</th>\n",
       "      <td>2</td>\n",
       "      <td>3</td>\n",
       "      <td>1024.1</td>\n",
       "      <td>19.4</td>\n",
       "      <td>16.1</td>\n",
       "      <td>14.6</td>\n",
       "      <td>9.3</td>\n",
       "      <td>75.0</td>\n",
       "      <td>47.0</td>\n",
       "      <td>8.3</td>\n",
       "      <td>70.0</td>\n",
       "      <td>18.1</td>\n",
       "      <td>1</td>\n",
       "    </tr>\n",
       "    <tr>\n",
       "      <th>3</th>\n",
       "      <td>3</td>\n",
       "      <td>4</td>\n",
       "      <td>1013.4</td>\n",
       "      <td>18.1</td>\n",
       "      <td>17.8</td>\n",
       "      <td>16.9</td>\n",
       "      <td>16.8</td>\n",
       "      <td>95.0</td>\n",
       "      <td>95.0</td>\n",
       "      <td>0.0</td>\n",
       "      <td>60.0</td>\n",
       "      <td>35.6</td>\n",
       "      <td>1</td>\n",
       "    </tr>\n",
       "    <tr>\n",
       "      <th>4</th>\n",
       "      <td>4</td>\n",
       "      <td>5</td>\n",
       "      <td>1021.8</td>\n",
       "      <td>21.3</td>\n",
       "      <td>18.4</td>\n",
       "      <td>15.2</td>\n",
       "      <td>9.6</td>\n",
       "      <td>52.0</td>\n",
       "      <td>45.0</td>\n",
       "      <td>3.6</td>\n",
       "      <td>40.0</td>\n",
       "      <td>24.8</td>\n",
       "      <td>0</td>\n",
       "    </tr>\n",
       "  </tbody>\n",
       "</table>\n",
       "</div>"
      ],
      "text/plain": [
       "   id  day  pressure  maxtemp  temparature  mintemp  dewpoint  humidity  \\\n",
       "0   0    1    1017.4     21.2         20.6     19.9      19.4      87.0   \n",
       "1   1    2    1019.5     16.2         16.9     15.8      15.4      95.0   \n",
       "2   2    3    1024.1     19.4         16.1     14.6       9.3      75.0   \n",
       "3   3    4    1013.4     18.1         17.8     16.9      16.8      95.0   \n",
       "4   4    5    1021.8     21.3         18.4     15.2       9.6      52.0   \n",
       "\n",
       "   cloud  sunshine  winddirection  windspeed  rainfall  \n",
       "0   88.0       1.1           60.0       17.2         1  \n",
       "1   91.0       0.0           50.0       21.9         1  \n",
       "2   47.0       8.3           70.0       18.1         1  \n",
       "3   95.0       0.0           60.0       35.6         1  \n",
       "4   45.0       3.6           40.0       24.8         0  "
      ]
     },
     "metadata": {},
     "output_type": "display_data"
    },
    {
     "data": {
      "text/html": [
       "<div>\n",
       "<style scoped>\n",
       "    .dataframe tbody tr th:only-of-type {\n",
       "        vertical-align: middle;\n",
       "    }\n",
       "\n",
       "    .dataframe tbody tr th {\n",
       "        vertical-align: top;\n",
       "    }\n",
       "\n",
       "    .dataframe thead th {\n",
       "        text-align: right;\n",
       "    }\n",
       "</style>\n",
       "<table border=\"1\" class=\"dataframe\">\n",
       "  <thead>\n",
       "    <tr style=\"text-align: right;\">\n",
       "      <th></th>\n",
       "      <th>count</th>\n",
       "      <th>mean</th>\n",
       "      <th>std</th>\n",
       "      <th>min</th>\n",
       "      <th>25%</th>\n",
       "      <th>50%</th>\n",
       "      <th>75%</th>\n",
       "      <th>max</th>\n",
       "    </tr>\n",
       "  </thead>\n",
       "  <tbody>\n",
       "    <tr>\n",
       "      <th>id</th>\n",
       "      <td>2190.0</td>\n",
       "      <td>1094.500000</td>\n",
       "      <td>632.342866</td>\n",
       "      <td>0.0</td>\n",
       "      <td>547.250</td>\n",
       "      <td>1094.50</td>\n",
       "      <td>1641.750</td>\n",
       "      <td>2189.0</td>\n",
       "    </tr>\n",
       "    <tr>\n",
       "      <th>day</th>\n",
       "      <td>2190.0</td>\n",
       "      <td>179.948402</td>\n",
       "      <td>105.203592</td>\n",
       "      <td>1.0</td>\n",
       "      <td>89.000</td>\n",
       "      <td>178.50</td>\n",
       "      <td>270.000</td>\n",
       "      <td>365.0</td>\n",
       "    </tr>\n",
       "    <tr>\n",
       "      <th>pressure</th>\n",
       "      <td>2190.0</td>\n",
       "      <td>1013.602146</td>\n",
       "      <td>5.655366</td>\n",
       "      <td>999.0</td>\n",
       "      <td>1008.600</td>\n",
       "      <td>1013.00</td>\n",
       "      <td>1017.775</td>\n",
       "      <td>1034.6</td>\n",
       "    </tr>\n",
       "    <tr>\n",
       "      <th>maxtemp</th>\n",
       "      <td>2190.0</td>\n",
       "      <td>26.365799</td>\n",
       "      <td>5.654330</td>\n",
       "      <td>10.4</td>\n",
       "      <td>21.300</td>\n",
       "      <td>27.80</td>\n",
       "      <td>31.200</td>\n",
       "      <td>36.0</td>\n",
       "    </tr>\n",
       "    <tr>\n",
       "      <th>temparature</th>\n",
       "      <td>2190.0</td>\n",
       "      <td>23.953059</td>\n",
       "      <td>5.222410</td>\n",
       "      <td>7.4</td>\n",
       "      <td>19.300</td>\n",
       "      <td>25.50</td>\n",
       "      <td>28.400</td>\n",
       "      <td>31.5</td>\n",
       "    </tr>\n",
       "    <tr>\n",
       "      <th>mintemp</th>\n",
       "      <td>2190.0</td>\n",
       "      <td>22.170091</td>\n",
       "      <td>5.059120</td>\n",
       "      <td>4.0</td>\n",
       "      <td>17.700</td>\n",
       "      <td>23.85</td>\n",
       "      <td>26.400</td>\n",
       "      <td>29.8</td>\n",
       "    </tr>\n",
       "    <tr>\n",
       "      <th>dewpoint</th>\n",
       "      <td>2190.0</td>\n",
       "      <td>20.454566</td>\n",
       "      <td>5.288406</td>\n",
       "      <td>-0.3</td>\n",
       "      <td>16.800</td>\n",
       "      <td>22.15</td>\n",
       "      <td>25.000</td>\n",
       "      <td>26.7</td>\n",
       "    </tr>\n",
       "    <tr>\n",
       "      <th>humidity</th>\n",
       "      <td>2190.0</td>\n",
       "      <td>82.036530</td>\n",
       "      <td>7.800654</td>\n",
       "      <td>39.0</td>\n",
       "      <td>77.000</td>\n",
       "      <td>82.00</td>\n",
       "      <td>88.000</td>\n",
       "      <td>98.0</td>\n",
       "    </tr>\n",
       "    <tr>\n",
       "      <th>cloud</th>\n",
       "      <td>2190.0</td>\n",
       "      <td>75.721918</td>\n",
       "      <td>18.026498</td>\n",
       "      <td>2.0</td>\n",
       "      <td>69.000</td>\n",
       "      <td>83.00</td>\n",
       "      <td>88.000</td>\n",
       "      <td>100.0</td>\n",
       "    </tr>\n",
       "    <tr>\n",
       "      <th>sunshine</th>\n",
       "      <td>2190.0</td>\n",
       "      <td>3.744429</td>\n",
       "      <td>3.626327</td>\n",
       "      <td>0.0</td>\n",
       "      <td>0.400</td>\n",
       "      <td>2.40</td>\n",
       "      <td>6.800</td>\n",
       "      <td>12.1</td>\n",
       "    </tr>\n",
       "    <tr>\n",
       "      <th>winddirection</th>\n",
       "      <td>2190.0</td>\n",
       "      <td>104.863151</td>\n",
       "      <td>80.002416</td>\n",
       "      <td>10.0</td>\n",
       "      <td>40.000</td>\n",
       "      <td>70.00</td>\n",
       "      <td>200.000</td>\n",
       "      <td>300.0</td>\n",
       "    </tr>\n",
       "    <tr>\n",
       "      <th>windspeed</th>\n",
       "      <td>2190.0</td>\n",
       "      <td>21.804703</td>\n",
       "      <td>9.898659</td>\n",
       "      <td>4.4</td>\n",
       "      <td>14.125</td>\n",
       "      <td>20.50</td>\n",
       "      <td>27.900</td>\n",
       "      <td>59.5</td>\n",
       "    </tr>\n",
       "    <tr>\n",
       "      <th>rainfall</th>\n",
       "      <td>2190.0</td>\n",
       "      <td>0.753425</td>\n",
       "      <td>0.431116</td>\n",
       "      <td>0.0</td>\n",
       "      <td>1.000</td>\n",
       "      <td>1.00</td>\n",
       "      <td>1.000</td>\n",
       "      <td>1.0</td>\n",
       "    </tr>\n",
       "  </tbody>\n",
       "</table>\n",
       "</div>"
      ],
      "text/plain": [
       "                count         mean         std    min       25%      50%  \\\n",
       "id             2190.0  1094.500000  632.342866    0.0   547.250  1094.50   \n",
       "day            2190.0   179.948402  105.203592    1.0    89.000   178.50   \n",
       "pressure       2190.0  1013.602146    5.655366  999.0  1008.600  1013.00   \n",
       "maxtemp        2190.0    26.365799    5.654330   10.4    21.300    27.80   \n",
       "temparature    2190.0    23.953059    5.222410    7.4    19.300    25.50   \n",
       "mintemp        2190.0    22.170091    5.059120    4.0    17.700    23.85   \n",
       "dewpoint       2190.0    20.454566    5.288406   -0.3    16.800    22.15   \n",
       "humidity       2190.0    82.036530    7.800654   39.0    77.000    82.00   \n",
       "cloud          2190.0    75.721918   18.026498    2.0    69.000    83.00   \n",
       "sunshine       2190.0     3.744429    3.626327    0.0     0.400     2.40   \n",
       "winddirection  2190.0   104.863151   80.002416   10.0    40.000    70.00   \n",
       "windspeed      2190.0    21.804703    9.898659    4.4    14.125    20.50   \n",
       "rainfall       2190.0     0.753425    0.431116    0.0     1.000     1.00   \n",
       "\n",
       "                    75%     max  \n",
       "id             1641.750  2189.0  \n",
       "day             270.000   365.0  \n",
       "pressure       1017.775  1034.6  \n",
       "maxtemp          31.200    36.0  \n",
       "temparature      28.400    31.5  \n",
       "mintemp          26.400    29.8  \n",
       "dewpoint         25.000    26.7  \n",
       "humidity         88.000    98.0  \n",
       "cloud            88.000   100.0  \n",
       "sunshine          6.800    12.1  \n",
       "winddirection   200.000   300.0  \n",
       "windspeed        27.900    59.5  \n",
       "rainfall          1.000     1.0  "
      ]
     },
     "metadata": {},
     "output_type": "display_data"
    }
   ],
   "source": [
    "train = pd.read_csv(\"/kaggle/input/playground-series-s5e3/train.csv\")\n",
    "test = pd.read_csv(\"/kaggle/input/playground-series-s5e3/test.csv\")\n",
    "display(train.info(), train.head(), train.describe().T)"
   ]
  },
  {
   "cell_type": "markdown",
   "id": "8d86a865",
   "metadata": {
    "papermill": {
     "duration": 0.005931,
     "end_time": "2025-03-03T19:45:26.497341",
     "exception": false,
     "start_time": "2025-03-03T19:45:26.491410",
     "status": "completed"
    },
    "tags": []
   },
   "source": [
    "### Zero New Features to See How Model Performs:\n",
    "Not expecting any crazy results, just curious to see how a model can perform with no engineering for new features or tuning :P"
   ]
  },
  {
   "cell_type": "code",
   "execution_count": 4,
   "id": "7824db24",
   "metadata": {
    "execution": {
     "iopub.execute_input": "2025-03-03T19:45:26.510696Z",
     "iopub.status.busy": "2025-03-03T19:45:26.510343Z",
     "iopub.status.idle": "2025-03-03T19:45:26.529908Z",
     "shell.execute_reply": "2025-03-03T19:45:26.529019Z"
    },
    "papermill": {
     "duration": 0.028131,
     "end_time": "2025-03-03T19:45:26.531470",
     "exception": false,
     "start_time": "2025-03-03T19:45:26.503339",
     "status": "completed"
    },
    "tags": []
   },
   "outputs": [
    {
     "name": "stdout",
     "output_type": "stream",
     "text": [
      "<class 'pandas.core.frame.DataFrame'>\n",
      "RangeIndex: 2190 entries, 0 to 2189\n",
      "Data columns (total 11 columns):\n",
      " #   Column         Non-Null Count  Dtype  \n",
      "---  ------         --------------  -----  \n",
      " 0   day            2190 non-null   int64  \n",
      " 1   pressure       2190 non-null   float64\n",
      " 2   maxtemp        2190 non-null   float64\n",
      " 3   temparature    2190 non-null   float64\n",
      " 4   mintemp        2190 non-null   float64\n",
      " 5   dewpoint       2190 non-null   float64\n",
      " 6   humidity       2190 non-null   float64\n",
      " 7   cloud          2190 non-null   float64\n",
      " 8   sunshine       2190 non-null   float64\n",
      " 9   winddirection  2190 non-null   float64\n",
      " 10  windspeed      2190 non-null   float64\n",
      "dtypes: float64(10), int64(1)\n",
      "memory usage: 188.3 KB\n",
      "<class 'pandas.core.series.Series'>\n",
      "RangeIndex: 2190 entries, 0 to 2189\n",
      "Series name: rainfall\n",
      "Non-Null Count  Dtype\n",
      "--------------  -----\n",
      "2190 non-null   int64\n",
      "dtypes: int64(1)\n",
      "memory usage: 17.2 KB\n"
     ]
    },
    {
     "data": {
      "text/plain": [
       "None"
      ]
     },
     "metadata": {},
     "output_type": "display_data"
    },
    {
     "data": {
      "text/plain": [
       "None"
      ]
     },
     "metadata": {},
     "output_type": "display_data"
    }
   ],
   "source": [
    "X = train.drop(columns=[\"rainfall\", \"id\"])\n",
    "y = train[\"rainfall\"]\n",
    "display(X.info(), y.info())"
   ]
  },
  {
   "cell_type": "code",
   "execution_count": 5,
   "id": "455199e6",
   "metadata": {
    "execution": {
     "iopub.execute_input": "2025-03-03T19:45:26.545539Z",
     "iopub.status.busy": "2025-03-03T19:45:26.545144Z",
     "iopub.status.idle": "2025-03-03T19:45:29.494097Z",
     "shell.execute_reply": "2025-03-03T19:45:29.492985Z"
    },
    "papermill": {
     "duration": 2.958136,
     "end_time": "2025-03-03T19:45:29.496067",
     "exception": false,
     "start_time": "2025-03-03T19:45:26.537931",
     "status": "completed"
    },
    "tags": []
   },
   "outputs": [],
   "source": [
    "from sklearn.model_selection import train_test_split\n",
    "from sklearn.preprocessing import StandardScaler\n",
    "from imblearn.over_sampling import SMOTE\n",
    "\n",
    "# split\n",
    "X_train, X_val, y_train, y_val = train_test_split(X, y, test_size = 0.2, random_state = 42)\n",
    "\n",
    "# help the skew/imbalance\n",
    "smote = SMOTE(sampling_strategy=1.0, random_state=42)\n",
    "X_train_resampled, y_train_resampled = smote.fit_resample(X_train, y_train)\n",
    "\n",
    "# scale data, gave minor boost to MI scores\n",
    "scaler = StandardScaler()\n",
    "X_train_scaled = pd.DataFrame(scaler.fit_transform(X_train_resampled), columns=X_train_resampled.columns)"
   ]
  },
  {
   "cell_type": "code",
   "execution_count": 6,
   "id": "c4dc4d3f",
   "metadata": {
    "execution": {
     "iopub.execute_input": "2025-03-03T19:45:29.510684Z",
     "iopub.status.busy": "2025-03-03T19:45:29.510165Z",
     "iopub.status.idle": "2025-03-03T19:45:29.692893Z",
     "shell.execute_reply": "2025-03-03T19:45:29.691753Z"
    },
    "papermill": {
     "duration": 0.192065,
     "end_time": "2025-03-03T19:45:29.694830",
     "exception": false,
     "start_time": "2025-03-03T19:45:29.502765",
     "status": "completed"
    },
    "tags": []
   },
   "outputs": [
    {
     "name": "stdout",
     "output_type": "stream",
     "text": [
      "Selected Features: ['maxtemp', 'temparature', 'mintemp', 'dewpoint', 'humidity', 'cloud', 'sunshine', 'windspeed']\n"
     ]
    }
   ],
   "source": [
    "from sklearn.feature_selection import SelectKBest, mutual_info_classif\n",
    "\n",
    "# find most relevant features\n",
    "selector = SelectKBest(mutual_info_classif, k=8)\n",
    "X_train_selected = selector.fit_transform(X_train_resampled, y_train_resampled)\n",
    "selected_features = X_train_resampled.columns[selector.get_support()]\n",
    "print(\"Selected Features:\", selected_features.tolist())\n",
    "\n",
    "X_train_selected = X_train_resampled[selected_features]\n",
    "X_val_selected = X_val[selected_features]"
   ]
  },
  {
   "cell_type": "code",
   "execution_count": 7,
   "id": "a55614e6",
   "metadata": {
    "execution": {
     "iopub.execute_input": "2025-03-03T19:45:29.709182Z",
     "iopub.status.busy": "2025-03-03T19:45:29.708837Z",
     "iopub.status.idle": "2025-03-03T19:45:29.725347Z",
     "shell.execute_reply": "2025-03-03T19:45:29.724334Z"
    },
    "papermill": {
     "duration": 0.025325,
     "end_time": "2025-03-03T19:45:29.726844",
     "exception": false,
     "start_time": "2025-03-03T19:45:29.701519",
     "status": "completed"
    },
    "tags": []
   },
   "outputs": [
    {
     "name": "stdout",
     "output_type": "stream",
     "text": [
      "<class 'pandas.core.frame.DataFrame'>\n",
      "RangeIndex: 2662 entries, 0 to 2661\n",
      "Data columns (total 8 columns):\n",
      " #   Column       Non-Null Count  Dtype  \n",
      "---  ------       --------------  -----  \n",
      " 0   maxtemp      2662 non-null   float64\n",
      " 1   temparature  2662 non-null   float64\n",
      " 2   mintemp      2662 non-null   float64\n",
      " 3   dewpoint     2662 non-null   float64\n",
      " 4   humidity     2662 non-null   float64\n",
      " 5   cloud        2662 non-null   float64\n",
      " 6   sunshine     2662 non-null   float64\n",
      " 7   windspeed    2662 non-null   float64\n",
      "dtypes: float64(8)\n",
      "memory usage: 166.5 KB\n",
      "<class 'pandas.core.series.Series'>\n",
      "RangeIndex: 2662 entries, 0 to 2661\n",
      "Series name: rainfall\n",
      "Non-Null Count  Dtype\n",
      "--------------  -----\n",
      "2662 non-null   int64\n",
      "dtypes: int64(1)\n",
      "memory usage: 20.9 KB\n"
     ]
    },
    {
     "data": {
      "text/plain": [
       "None"
      ]
     },
     "metadata": {},
     "output_type": "display_data"
    },
    {
     "data": {
      "text/plain": [
       "None"
      ]
     },
     "metadata": {},
     "output_type": "display_data"
    }
   ],
   "source": [
    "display(X_train_selected.info(), y_train_resampled.info())"
   ]
  },
  {
   "cell_type": "code",
   "execution_count": 8,
   "id": "6f356473",
   "metadata": {
    "execution": {
     "iopub.execute_input": "2025-03-03T19:45:29.741788Z",
     "iopub.status.busy": "2025-03-03T19:45:29.741441Z",
     "iopub.status.idle": "2025-03-03T19:45:41.215978Z",
     "shell.execute_reply": "2025-03-03T19:45:41.214931Z"
    },
    "papermill": {
     "duration": 11.483961,
     "end_time": "2025-03-03T19:45:41.217688",
     "exception": false,
     "start_time": "2025-03-03T19:45:29.733727",
     "status": "completed"
    },
    "tags": []
   },
   "outputs": [
    {
     "name": "stderr",
     "output_type": "stream",
     "text": [
      "/usr/local/lib/python3.10/dist-packages/tabpfn/base.py:88: UserWarning: Downloading model to /root/.cache/tabpfn/tabpfn-v2-classifier.ckpt.\n",
      "  model, _, config_ = load_model_criterion_config(\n"
     ]
    },
    {
     "data": {
      "application/vnd.jupyter.widget-view+json": {
       "model_id": "270accb8ea3e4ab18773eaab08d5ebd0",
       "version_major": 2,
       "version_minor": 0
      },
      "text/plain": [
       "tabpfn-v2-classifier.ckpt:   0%|          | 0.00/29.0M [00:00<?, ?B/s]"
      ]
     },
     "metadata": {},
     "output_type": "display_data"
    },
    {
     "data": {
      "application/vnd.jupyter.widget-view+json": {
       "model_id": "5425ecf9473d4971bb87d6e0da033fd8",
       "version_major": 2,
       "version_minor": 0
      },
      "text/plain": [
       "config.json:   0%|          | 0.00/37.0 [00:00<?, ?B/s]"
      ]
     },
     "metadata": {},
     "output_type": "display_data"
    },
    {
     "data": {
      "text/html": [
       "<style>#sk-container-id-1 {color: black;background-color: white;}#sk-container-id-1 pre{padding: 0;}#sk-container-id-1 div.sk-toggleable {background-color: white;}#sk-container-id-1 label.sk-toggleable__label {cursor: pointer;display: block;width: 100%;margin-bottom: 0;padding: 0.3em;box-sizing: border-box;text-align: center;}#sk-container-id-1 label.sk-toggleable__label-arrow:before {content: \"▸\";float: left;margin-right: 0.25em;color: #696969;}#sk-container-id-1 label.sk-toggleable__label-arrow:hover:before {color: black;}#sk-container-id-1 div.sk-estimator:hover label.sk-toggleable__label-arrow:before {color: black;}#sk-container-id-1 div.sk-toggleable__content {max-height: 0;max-width: 0;overflow: hidden;text-align: left;background-color: #f0f8ff;}#sk-container-id-1 div.sk-toggleable__content pre {margin: 0.2em;color: black;border-radius: 0.25em;background-color: #f0f8ff;}#sk-container-id-1 input.sk-toggleable__control:checked~div.sk-toggleable__content {max-height: 200px;max-width: 100%;overflow: auto;}#sk-container-id-1 input.sk-toggleable__control:checked~label.sk-toggleable__label-arrow:before {content: \"▾\";}#sk-container-id-1 div.sk-estimator input.sk-toggleable__control:checked~label.sk-toggleable__label {background-color: #d4ebff;}#sk-container-id-1 div.sk-label input.sk-toggleable__control:checked~label.sk-toggleable__label {background-color: #d4ebff;}#sk-container-id-1 input.sk-hidden--visually {border: 0;clip: rect(1px 1px 1px 1px);clip: rect(1px, 1px, 1px, 1px);height: 1px;margin: -1px;overflow: hidden;padding: 0;position: absolute;width: 1px;}#sk-container-id-1 div.sk-estimator {font-family: monospace;background-color: #f0f8ff;border: 1px dotted black;border-radius: 0.25em;box-sizing: border-box;margin-bottom: 0.5em;}#sk-container-id-1 div.sk-estimator:hover {background-color: #d4ebff;}#sk-container-id-1 div.sk-parallel-item::after {content: \"\";width: 100%;border-bottom: 1px solid gray;flex-grow: 1;}#sk-container-id-1 div.sk-label:hover label.sk-toggleable__label {background-color: #d4ebff;}#sk-container-id-1 div.sk-serial::before {content: \"\";position: absolute;border-left: 1px solid gray;box-sizing: border-box;top: 0;bottom: 0;left: 50%;z-index: 0;}#sk-container-id-1 div.sk-serial {display: flex;flex-direction: column;align-items: center;background-color: white;padding-right: 0.2em;padding-left: 0.2em;position: relative;}#sk-container-id-1 div.sk-item {position: relative;z-index: 1;}#sk-container-id-1 div.sk-parallel {display: flex;align-items: stretch;justify-content: center;background-color: white;position: relative;}#sk-container-id-1 div.sk-item::before, #sk-container-id-1 div.sk-parallel-item::before {content: \"\";position: absolute;border-left: 1px solid gray;box-sizing: border-box;top: 0;bottom: 0;left: 50%;z-index: -1;}#sk-container-id-1 div.sk-parallel-item {display: flex;flex-direction: column;z-index: 1;position: relative;background-color: white;}#sk-container-id-1 div.sk-parallel-item:first-child::after {align-self: flex-end;width: 50%;}#sk-container-id-1 div.sk-parallel-item:last-child::after {align-self: flex-start;width: 50%;}#sk-container-id-1 div.sk-parallel-item:only-child::after {width: 0;}#sk-container-id-1 div.sk-dashed-wrapped {border: 1px dashed gray;margin: 0 0.4em 0.5em 0.4em;box-sizing: border-box;padding-bottom: 0.4em;background-color: white;}#sk-container-id-1 div.sk-label label {font-family: monospace;font-weight: bold;display: inline-block;line-height: 1.2em;}#sk-container-id-1 div.sk-label-container {text-align: center;}#sk-container-id-1 div.sk-container {/* jupyter's `normalize.less` sets `[hidden] { display: none; }` but bootstrap.min.css set `[hidden] { display: none !important; }` so we also need the `!important` here to be able to override the default hidden behavior on the sphinx rendered scikit-learn.org. See: https://github.com/scikit-learn/scikit-learn/issues/21755 */display: inline-block !important;position: relative;}#sk-container-id-1 div.sk-text-repr-fallback {display: none;}</style><div id=\"sk-container-id-1\" class=\"sk-top-container\"><div class=\"sk-text-repr-fallback\"><pre>TabPFNClassifier()</pre><b>In a Jupyter environment, please rerun this cell to show the HTML representation or trust the notebook. <br />On GitHub, the HTML representation is unable to render, please try loading this page with nbviewer.org.</b></div><div class=\"sk-container\" hidden><div class=\"sk-item\"><div class=\"sk-estimator sk-toggleable\"><input class=\"sk-toggleable__control sk-hidden--visually\" id=\"sk-estimator-id-1\" type=\"checkbox\" checked><label for=\"sk-estimator-id-1\" class=\"sk-toggleable__label sk-toggleable__label-arrow\">TabPFNClassifier</label><div class=\"sk-toggleable__content\"><pre>TabPFNClassifier()</pre></div></div></div></div></div>"
      ],
      "text/plain": [
       "TabPFNClassifier()"
      ]
     },
     "execution_count": 8,
     "metadata": {},
     "output_type": "execute_result"
    }
   ],
   "source": [
    "from tabpfn import TabPFNClassifier\n",
    "\n",
    "# train\n",
    "model = TabPFNClassifier()\n",
    "model.fit(X_train_selected, y_train_resampled)"
   ]
  },
  {
   "cell_type": "code",
   "execution_count": 9,
   "id": "b877caf8",
   "metadata": {
    "execution": {
     "iopub.execute_input": "2025-03-03T19:45:41.234027Z",
     "iopub.status.busy": "2025-03-03T19:45:41.233470Z",
     "iopub.status.idle": "2025-03-03T19:51:22.764396Z",
     "shell.execute_reply": "2025-03-03T19:51:22.763338Z"
    },
    "papermill": {
     "duration": 341.547564,
     "end_time": "2025-03-03T19:51:22.772809",
     "exception": false,
     "start_time": "2025-03-03T19:45:41.225245",
     "status": "completed"
    },
    "tags": []
   },
   "outputs": [
    {
     "name": "stdout",
     "output_type": "stream",
     "text": [
      "ROC AUC:  0.8564316008535076\n"
     ]
    }
   ],
   "source": [
    "from sklearn.metrics import roc_auc_score\n",
    "val_probs = model.predict_proba(X_val_selected)\n",
    "print(\"ROC AUC: \", roc_auc_score(y_val, val_probs[:, 1]))\n",
    "#ROC AUC with no feature selection, no scaling, no smote:  0.871420668580912\n",
    "# ROC AUC with feature selection, scaling, and smote: 0.8647559337214509"
   ]
  },
  {
   "cell_type": "code",
   "execution_count": 10,
   "id": "39e03118",
   "metadata": {
    "execution": {
     "iopub.execute_input": "2025-03-03T19:51:22.789072Z",
     "iopub.status.busy": "2025-03-03T19:51:22.788457Z",
     "iopub.status.idle": "2025-03-03T19:57:35.647990Z",
     "shell.execute_reply": "2025-03-03T19:57:35.646910Z"
    },
    "papermill": {
     "duration": 372.869765,
     "end_time": "2025-03-03T19:57:35.650013",
     "exception": false,
     "start_time": "2025-03-03T19:51:22.780248",
     "status": "completed"
    },
    "tags": []
   },
   "outputs": [],
   "source": [
    "test = test.drop(columns=\"id\")\n",
    "test_probs = model.predict_proba(test[selected_features])[:, 1]"
   ]
  },
  {
   "cell_type": "code",
   "execution_count": 11,
   "id": "e615c9a3",
   "metadata": {
    "execution": {
     "iopub.execute_input": "2025-03-03T19:57:35.666425Z",
     "iopub.status.busy": "2025-03-03T19:57:35.666043Z",
     "iopub.status.idle": "2025-03-03T19:57:35.695360Z",
     "shell.execute_reply": "2025-03-03T19:57:35.694297Z"
    },
    "papermill": {
     "duration": 0.039138,
     "end_time": "2025-03-03T19:57:35.697042",
     "exception": false,
     "start_time": "2025-03-03T19:57:35.657904",
     "status": "completed"
    },
    "tags": []
   },
   "outputs": [
    {
     "data": {
      "text/html": [
       "<div>\n",
       "<style scoped>\n",
       "    .dataframe tbody tr th:only-of-type {\n",
       "        vertical-align: middle;\n",
       "    }\n",
       "\n",
       "    .dataframe tbody tr th {\n",
       "        vertical-align: top;\n",
       "    }\n",
       "\n",
       "    .dataframe thead th {\n",
       "        text-align: right;\n",
       "    }\n",
       "</style>\n",
       "<table border=\"1\" class=\"dataframe\">\n",
       "  <thead>\n",
       "    <tr style=\"text-align: right;\">\n",
       "      <th></th>\n",
       "      <th>id</th>\n",
       "      <th>rainfall</th>\n",
       "    </tr>\n",
       "  </thead>\n",
       "  <tbody>\n",
       "    <tr>\n",
       "      <th>0</th>\n",
       "      <td>2190</td>\n",
       "      <td>0.997523</td>\n",
       "    </tr>\n",
       "    <tr>\n",
       "      <th>1</th>\n",
       "      <td>2191</td>\n",
       "      <td>0.998495</td>\n",
       "    </tr>\n",
       "    <tr>\n",
       "      <th>2</th>\n",
       "      <td>2192</td>\n",
       "      <td>0.973152</td>\n",
       "    </tr>\n",
       "    <tr>\n",
       "      <th>3</th>\n",
       "      <td>2193</td>\n",
       "      <td>0.024215</td>\n",
       "    </tr>\n",
       "    <tr>\n",
       "      <th>4</th>\n",
       "      <td>2194</td>\n",
       "      <td>0.014581</td>\n",
       "    </tr>\n",
       "  </tbody>\n",
       "</table>\n",
       "</div>"
      ],
      "text/plain": [
       "     id  rainfall\n",
       "0  2190  0.997523\n",
       "1  2191  0.998495\n",
       "2  2192  0.973152\n",
       "3  2193  0.024215\n",
       "4  2194  0.014581"
      ]
     },
     "execution_count": 11,
     "metadata": {},
     "output_type": "execute_result"
    }
   ],
   "source": [
    "submission = pd.read_csv(\"/kaggle/input/playground-series-s5e3/sample_submission.csv\")\n",
    "submission['rainfall'] = test_probs\n",
    "submission.to_csv('submission.csv', index=False)\n",
    "submission.head()"
   ]
  },
  {
   "cell_type": "markdown",
   "id": "a4eca2df",
   "metadata": {
    "papermill": {
     "duration": 0.007224,
     "end_time": "2025-03-03T19:57:35.712005",
     "exception": false,
     "start_time": "2025-03-03T19:57:35.704781",
     "status": "completed"
    },
    "tags": []
   },
   "source": [
    "### With Feature Engineering:\n",
    "Very naive feature engineering by just doing col1 * col 2 and col1 / col2, nothing crazy.\n",
    "I'll read through other people's notebooks some time and see what appears to be the most powerful techniques."
   ]
  },
  {
   "cell_type": "code",
   "execution_count": 12,
   "id": "e37f7d03",
   "metadata": {
    "execution": {
     "iopub.execute_input": "2025-03-03T19:57:35.728316Z",
     "iopub.status.busy": "2025-03-03T19:57:35.727899Z",
     "iopub.status.idle": "2025-03-03T19:57:35.740430Z",
     "shell.execute_reply": "2025-03-03T19:57:35.739503Z"
    },
    "papermill": {
     "duration": 0.022368,
     "end_time": "2025-03-03T19:57:35.741959",
     "exception": false,
     "start_time": "2025-03-03T19:57:35.719591",
     "status": "completed"
    },
    "tags": []
   },
   "outputs": [
    {
     "name": "stdout",
     "output_type": "stream",
     "text": [
      "<class 'pandas.core.frame.DataFrame'>\n",
      "RangeIndex: 2190 entries, 0 to 2189\n",
      "Data columns (total 13 columns):\n",
      " #   Column         Non-Null Count  Dtype  \n",
      "---  ------         --------------  -----  \n",
      " 0   id             2190 non-null   int64  \n",
      " 1   day            2190 non-null   int64  \n",
      " 2   pressure       2190 non-null   float64\n",
      " 3   maxtemp        2190 non-null   float64\n",
      " 4   temparature    2190 non-null   float64\n",
      " 5   mintemp        2190 non-null   float64\n",
      " 6   dewpoint       2190 non-null   float64\n",
      " 7   humidity       2190 non-null   float64\n",
      " 8   cloud          2190 non-null   float64\n",
      " 9   sunshine       2190 non-null   float64\n",
      " 10  winddirection  2190 non-null   float64\n",
      " 11  windspeed      2190 non-null   float64\n",
      " 12  rainfall       2190 non-null   int64  \n",
      "dtypes: float64(10), int64(3)\n",
      "memory usage: 222.5 KB\n"
     ]
    },
    {
     "data": {
      "text/plain": [
       "None"
      ]
     },
     "metadata": {},
     "output_type": "display_data"
    }
   ],
   "source": [
    "display(train.info())"
   ]
  },
  {
   "cell_type": "code",
   "execution_count": 13,
   "id": "678fcb6f",
   "metadata": {
    "execution": {
     "iopub.execute_input": "2025-03-03T19:57:35.758783Z",
     "iopub.status.busy": "2025-03-03T19:57:35.758408Z",
     "iopub.status.idle": "2025-03-03T19:57:35.781449Z",
     "shell.execute_reply": "2025-03-03T19:57:35.779842Z"
    },
    "papermill": {
     "duration": 0.033585,
     "end_time": "2025-03-03T19:57:35.783317",
     "exception": false,
     "start_time": "2025-03-03T19:57:35.749732",
     "status": "completed"
    },
    "tags": []
   },
   "outputs": [
    {
     "name": "stdout",
     "output_type": "stream",
     "text": [
      "<class 'pandas.core.frame.DataFrame'>\n",
      "RangeIndex: 2190 entries, 0 to 2189\n",
      "Data columns (total 33 columns):\n",
      " #   Column                 Non-Null Count  Dtype  \n",
      "---  ------                 --------------  -----  \n",
      " 0   id                     2190 non-null   int64  \n",
      " 1   day                    2190 non-null   int64  \n",
      " 2   pressure               2190 non-null   float64\n",
      " 3   maxtemp                2190 non-null   float64\n",
      " 4   temparature            2190 non-null   float64\n",
      " 5   mintemp                2190 non-null   float64\n",
      " 6   dewpoint               2190 non-null   float64\n",
      " 7   humidity               2190 non-null   float64\n",
      " 8   cloud                  2190 non-null   float64\n",
      " 9   sunshine               2190 non-null   float64\n",
      " 10  winddirection          2190 non-null   float64\n",
      " 11  windspeed              2190 non-null   float64\n",
      " 12  rainfall               2190 non-null   int64  \n",
      " 13  cloud_x_day            2190 non-null   float64\n",
      " 14  cloud_/_day            2190 non-null   float64\n",
      " 15  cloud_x_pressure       2190 non-null   float64\n",
      " 16  cloud_/_pressure       2190 non-null   float64\n",
      " 17  cloud_x_maxtemp        2190 non-null   float64\n",
      " 18  cloud_/_maxtemp        2190 non-null   float64\n",
      " 19  cloud_x_temparature    2190 non-null   float64\n",
      " 20  cloud_/_temparature    2190 non-null   float64\n",
      " 21  cloud_x_mintemp        2190 non-null   float64\n",
      " 22  cloud_/_mintemp        2190 non-null   float64\n",
      " 23  cloud_x_dewpoint       2190 non-null   float64\n",
      " 24  cloud_/_dewpoint       2190 non-null   float64\n",
      " 25  cloud_x_humidity       2190 non-null   float64\n",
      " 26  cloud_/_humidity       2190 non-null   float64\n",
      " 27  cloud_x_sunshine       2190 non-null   float64\n",
      " 28  cloud_/_sunshine       2190 non-null   float64\n",
      " 29  cloud_x_winddirection  2190 non-null   float64\n",
      " 30  cloud_/_winddirection  2190 non-null   float64\n",
      " 31  cloud_x_windspeed      2190 non-null   float64\n",
      " 32  cloud_/_windspeed      2190 non-null   float64\n",
      "dtypes: float64(30), int64(3)\n",
      "memory usage: 564.7 KB\n"
     ]
    }
   ],
   "source": [
    "temp = train.drop(columns=[\"cloud\", \"id\", \"rainfall\"])\n",
    "for c in temp.columns:\n",
    "    train[f\"cloud_x_{c}\"] = train[\"cloud\"] * train[c]\n",
    "    train[f\"cloud_/_{c}\"] = train[\"cloud\"] / train[c]\n",
    "\n",
    "train.info()"
   ]
  },
  {
   "cell_type": "code",
   "execution_count": 14,
   "id": "d617574d",
   "metadata": {
    "execution": {
     "iopub.execute_input": "2025-03-03T19:57:35.800180Z",
     "iopub.status.busy": "2025-03-03T19:57:35.799842Z",
     "iopub.status.idle": "2025-03-03T19:57:35.819015Z",
     "shell.execute_reply": "2025-03-03T19:57:35.818005Z"
    },
    "papermill": {
     "duration": 0.029345,
     "end_time": "2025-03-03T19:57:35.820625",
     "exception": false,
     "start_time": "2025-03-03T19:57:35.791280",
     "status": "completed"
    },
    "tags": []
   },
   "outputs": [
    {
     "name": "stdout",
     "output_type": "stream",
     "text": [
      "<class 'pandas.core.frame.DataFrame'>\n",
      "RangeIndex: 2190 entries, 0 to 2189\n",
      "Data columns (total 31 columns):\n",
      " #   Column                 Non-Null Count  Dtype  \n",
      "---  ------                 --------------  -----  \n",
      " 0   day                    2190 non-null   int64  \n",
      " 1   pressure               2190 non-null   float64\n",
      " 2   maxtemp                2190 non-null   float64\n",
      " 3   temparature            2190 non-null   float64\n",
      " 4   mintemp                2190 non-null   float64\n",
      " 5   dewpoint               2190 non-null   float64\n",
      " 6   humidity               2190 non-null   float64\n",
      " 7   cloud                  2190 non-null   float64\n",
      " 8   sunshine               2190 non-null   float64\n",
      " 9   winddirection          2190 non-null   float64\n",
      " 10  windspeed              2190 non-null   float64\n",
      " 11  cloud_x_day            2190 non-null   float64\n",
      " 12  cloud_/_day            2190 non-null   float64\n",
      " 13  cloud_x_pressure       2190 non-null   float64\n",
      " 14  cloud_/_pressure       2190 non-null   float64\n",
      " 15  cloud_x_maxtemp        2190 non-null   float64\n",
      " 16  cloud_/_maxtemp        2190 non-null   float64\n",
      " 17  cloud_x_temparature    2190 non-null   float64\n",
      " 18  cloud_/_temparature    2190 non-null   float64\n",
      " 19  cloud_x_mintemp        2190 non-null   float64\n",
      " 20  cloud_/_mintemp        2190 non-null   float64\n",
      " 21  cloud_x_dewpoint       2190 non-null   float64\n",
      " 22  cloud_/_dewpoint       2190 non-null   float64\n",
      " 23  cloud_x_humidity       2190 non-null   float64\n",
      " 24  cloud_/_humidity       2190 non-null   float64\n",
      " 25  cloud_x_sunshine       2190 non-null   float64\n",
      " 26  cloud_/_sunshine       2190 non-null   float64\n",
      " 27  cloud_x_winddirection  2190 non-null   float64\n",
      " 28  cloud_/_winddirection  2190 non-null   float64\n",
      " 29  cloud_x_windspeed      2190 non-null   float64\n",
      " 30  cloud_/_windspeed      2190 non-null   float64\n",
      "dtypes: float64(30), int64(1)\n",
      "memory usage: 530.5 KB\n",
      "<class 'pandas.core.series.Series'>\n",
      "RangeIndex: 2190 entries, 0 to 2189\n",
      "Series name: rainfall\n",
      "Non-Null Count  Dtype\n",
      "--------------  -----\n",
      "2190 non-null   int64\n",
      "dtypes: int64(1)\n",
      "memory usage: 17.2 KB\n"
     ]
    },
    {
     "data": {
      "text/plain": [
       "None"
      ]
     },
     "metadata": {},
     "output_type": "display_data"
    },
    {
     "data": {
      "text/plain": [
       "None"
      ]
     },
     "metadata": {},
     "output_type": "display_data"
    }
   ],
   "source": [
    "X = train.drop(columns=[\"rainfall\", \"id\"])\n",
    "y = train[\"rainfall\"]\n",
    "display(X.info(), y.info())"
   ]
  },
  {
   "cell_type": "code",
   "execution_count": 15,
   "id": "8a54a228",
   "metadata": {
    "execution": {
     "iopub.execute_input": "2025-03-03T19:57:35.837887Z",
     "iopub.status.busy": "2025-03-03T19:57:35.837548Z",
     "iopub.status.idle": "2025-03-03T19:57:35.882423Z",
     "shell.execute_reply": "2025-03-03T19:57:35.881363Z"
    },
    "papermill": {
     "duration": 0.055244,
     "end_time": "2025-03-03T19:57:35.883916",
     "exception": false,
     "start_time": "2025-03-03T19:57:35.828672",
     "status": "completed"
    },
    "tags": []
   },
   "outputs": [
    {
     "name": "stdout",
     "output_type": "stream",
     "text": [
      "<class 'pandas.core.frame.DataFrame'>\n",
      "Index: 1752 entries, 162 to 860\n",
      "Data columns (total 31 columns):\n",
      " #   Column                 Non-Null Count  Dtype  \n",
      "---  ------                 --------------  -----  \n",
      " 0   day                    1752 non-null   int64  \n",
      " 1   pressure               1752 non-null   float64\n",
      " 2   maxtemp                1752 non-null   float64\n",
      " 3   temparature            1752 non-null   float64\n",
      " 4   mintemp                1752 non-null   float64\n",
      " 5   dewpoint               1752 non-null   float64\n",
      " 6   humidity               1752 non-null   float64\n",
      " 7   cloud                  1752 non-null   float64\n",
      " 8   sunshine               1752 non-null   float64\n",
      " 9   winddirection          1752 non-null   float64\n",
      " 10  windspeed              1752 non-null   float64\n",
      " 11  cloud_x_day            1752 non-null   float64\n",
      " 12  cloud_/_day            1752 non-null   float64\n",
      " 13  cloud_x_pressure       1752 non-null   float64\n",
      " 14  cloud_/_pressure       1752 non-null   float64\n",
      " 15  cloud_x_maxtemp        1752 non-null   float64\n",
      " 16  cloud_/_maxtemp        1752 non-null   float64\n",
      " 17  cloud_x_temparature    1752 non-null   float64\n",
      " 18  cloud_/_temparature    1752 non-null   float64\n",
      " 19  cloud_x_mintemp        1752 non-null   float64\n",
      " 20  cloud_/_mintemp        1752 non-null   float64\n",
      " 21  cloud_x_dewpoint       1752 non-null   float64\n",
      " 22  cloud_/_dewpoint       1752 non-null   float64\n",
      " 23  cloud_x_humidity       1752 non-null   float64\n",
      " 24  cloud_/_humidity       1752 non-null   float64\n",
      " 25  cloud_x_sunshine       1752 non-null   float64\n",
      " 26  cloud_/_sunshine       1752 non-null   float64\n",
      " 27  cloud_x_winddirection  1752 non-null   float64\n",
      " 28  cloud_/_winddirection  1752 non-null   float64\n",
      " 29  cloud_x_windspeed      1752 non-null   float64\n",
      " 30  cloud_/_windspeed      1752 non-null   float64\n",
      "dtypes: float64(30), int64(1)\n",
      "memory usage: 438.0 KB\n",
      "<class 'pandas.core.series.Series'>\n",
      "Index: 1752 entries, 162 to 860\n",
      "Series name: rainfall\n",
      "Non-Null Count  Dtype\n",
      "--------------  -----\n",
      "1752 non-null   int64\n",
      "dtypes: int64(1)\n",
      "memory usage: 27.4 KB\n"
     ]
    },
    {
     "data": {
      "text/plain": [
       "None"
      ]
     },
     "metadata": {},
     "output_type": "display_data"
    },
    {
     "data": {
      "text/plain": [
       "None"
      ]
     },
     "metadata": {},
     "output_type": "display_data"
    },
    {
     "data": {
      "text/html": [
       "<div>\n",
       "<style scoped>\n",
       "    .dataframe tbody tr th:only-of-type {\n",
       "        vertical-align: middle;\n",
       "    }\n",
       "\n",
       "    .dataframe tbody tr th {\n",
       "        vertical-align: top;\n",
       "    }\n",
       "\n",
       "    .dataframe thead th {\n",
       "        text-align: right;\n",
       "    }\n",
       "</style>\n",
       "<table border=\"1\" class=\"dataframe\">\n",
       "  <thead>\n",
       "    <tr style=\"text-align: right;\">\n",
       "      <th></th>\n",
       "      <th>day</th>\n",
       "      <th>pressure</th>\n",
       "      <th>maxtemp</th>\n",
       "      <th>temparature</th>\n",
       "      <th>mintemp</th>\n",
       "      <th>dewpoint</th>\n",
       "      <th>humidity</th>\n",
       "      <th>cloud</th>\n",
       "      <th>sunshine</th>\n",
       "      <th>winddirection</th>\n",
       "      <th>...</th>\n",
       "      <th>cloud_x_dewpoint</th>\n",
       "      <th>cloud_/_dewpoint</th>\n",
       "      <th>cloud_x_humidity</th>\n",
       "      <th>cloud_/_humidity</th>\n",
       "      <th>cloud_x_sunshine</th>\n",
       "      <th>cloud_/_sunshine</th>\n",
       "      <th>cloud_x_winddirection</th>\n",
       "      <th>cloud_/_winddirection</th>\n",
       "      <th>cloud_x_windspeed</th>\n",
       "      <th>cloud_/_windspeed</th>\n",
       "    </tr>\n",
       "  </thead>\n",
       "  <tbody>\n",
       "    <tr>\n",
       "      <th>162</th>\n",
       "      <td>163</td>\n",
       "      <td>1006.6</td>\n",
       "      <td>31.0</td>\n",
       "      <td>29.3</td>\n",
       "      <td>27.1</td>\n",
       "      <td>25.3</td>\n",
       "      <td>79.0</td>\n",
       "      <td>77.0</td>\n",
       "      <td>4.6</td>\n",
       "      <td>220.0</td>\n",
       "      <td>...</td>\n",
       "      <td>1948.1</td>\n",
       "      <td>3.043478</td>\n",
       "      <td>6083.0</td>\n",
       "      <td>0.974684</td>\n",
       "      <td>354.2</td>\n",
       "      <td>16.739130</td>\n",
       "      <td>16940.0</td>\n",
       "      <td>0.350000</td>\n",
       "      <td>1070.3</td>\n",
       "      <td>5.539568</td>\n",
       "    </tr>\n",
       "    <tr>\n",
       "      <th>1873</th>\n",
       "      <td>49</td>\n",
       "      <td>1013.7</td>\n",
       "      <td>22.3</td>\n",
       "      <td>20.1</td>\n",
       "      <td>18.8</td>\n",
       "      <td>19.2</td>\n",
       "      <td>91.0</td>\n",
       "      <td>80.0</td>\n",
       "      <td>0.0</td>\n",
       "      <td>40.0</td>\n",
       "      <td>...</td>\n",
       "      <td>1536.0</td>\n",
       "      <td>4.166667</td>\n",
       "      <td>7280.0</td>\n",
       "      <td>0.879121</td>\n",
       "      <td>0.0</td>\n",
       "      <td>inf</td>\n",
       "      <td>3200.0</td>\n",
       "      <td>2.000000</td>\n",
       "      <td>992.0</td>\n",
       "      <td>6.451613</td>\n",
       "    </tr>\n",
       "    <tr>\n",
       "      <th>1366</th>\n",
       "      <td>272</td>\n",
       "      <td>1017.0</td>\n",
       "      <td>29.1</td>\n",
       "      <td>27.5</td>\n",
       "      <td>26.0</td>\n",
       "      <td>20.6</td>\n",
       "      <td>65.0</td>\n",
       "      <td>51.0</td>\n",
       "      <td>8.6</td>\n",
       "      <td>80.0</td>\n",
       "      <td>...</td>\n",
       "      <td>1050.6</td>\n",
       "      <td>2.475728</td>\n",
       "      <td>3315.0</td>\n",
       "      <td>0.784615</td>\n",
       "      <td>438.6</td>\n",
       "      <td>5.930233</td>\n",
       "      <td>4080.0</td>\n",
       "      <td>0.637500</td>\n",
       "      <td>2004.3</td>\n",
       "      <td>1.297710</td>\n",
       "    </tr>\n",
       "    <tr>\n",
       "      <th>554</th>\n",
       "      <td>190</td>\n",
       "      <td>1005.9</td>\n",
       "      <td>34.0</td>\n",
       "      <td>30.6</td>\n",
       "      <td>28.4</td>\n",
       "      <td>25.8</td>\n",
       "      <td>78.0</td>\n",
       "      <td>73.0</td>\n",
       "      <td>10.7</td>\n",
       "      <td>210.0</td>\n",
       "      <td>...</td>\n",
       "      <td>1883.4</td>\n",
       "      <td>2.829457</td>\n",
       "      <td>5694.0</td>\n",
       "      <td>0.935897</td>\n",
       "      <td>781.1</td>\n",
       "      <td>6.822430</td>\n",
       "      <td>15330.0</td>\n",
       "      <td>0.347619</td>\n",
       "      <td>927.1</td>\n",
       "      <td>5.748031</td>\n",
       "    </tr>\n",
       "    <tr>\n",
       "      <th>964</th>\n",
       "      <td>235</td>\n",
       "      <td>1005.0</td>\n",
       "      <td>33.0</td>\n",
       "      <td>30.0</td>\n",
       "      <td>28.1</td>\n",
       "      <td>25.0</td>\n",
       "      <td>77.0</td>\n",
       "      <td>43.0</td>\n",
       "      <td>9.4</td>\n",
       "      <td>220.0</td>\n",
       "      <td>...</td>\n",
       "      <td>1075.0</td>\n",
       "      <td>1.720000</td>\n",
       "      <td>3311.0</td>\n",
       "      <td>0.558442</td>\n",
       "      <td>404.2</td>\n",
       "      <td>4.574468</td>\n",
       "      <td>9460.0</td>\n",
       "      <td>0.195455</td>\n",
       "      <td>1247.0</td>\n",
       "      <td>1.482759</td>\n",
       "    </tr>\n",
       "  </tbody>\n",
       "</table>\n",
       "<p>5 rows × 31 columns</p>\n",
       "</div>"
      ],
      "text/plain": [
       "      day  pressure  maxtemp  temparature  mintemp  dewpoint  humidity  cloud  \\\n",
       "162   163    1006.6     31.0         29.3     27.1      25.3      79.0   77.0   \n",
       "1873   49    1013.7     22.3         20.1     18.8      19.2      91.0   80.0   \n",
       "1366  272    1017.0     29.1         27.5     26.0      20.6      65.0   51.0   \n",
       "554   190    1005.9     34.0         30.6     28.4      25.8      78.0   73.0   \n",
       "964   235    1005.0     33.0         30.0     28.1      25.0      77.0   43.0   \n",
       "\n",
       "      sunshine  winddirection  ...  cloud_x_dewpoint  cloud_/_dewpoint  \\\n",
       "162        4.6          220.0  ...            1948.1          3.043478   \n",
       "1873       0.0           40.0  ...            1536.0          4.166667   \n",
       "1366       8.6           80.0  ...            1050.6          2.475728   \n",
       "554       10.7          210.0  ...            1883.4          2.829457   \n",
       "964        9.4          220.0  ...            1075.0          1.720000   \n",
       "\n",
       "      cloud_x_humidity  cloud_/_humidity  cloud_x_sunshine  cloud_/_sunshine  \\\n",
       "162             6083.0          0.974684             354.2         16.739130   \n",
       "1873            7280.0          0.879121               0.0               inf   \n",
       "1366            3315.0          0.784615             438.6          5.930233   \n",
       "554             5694.0          0.935897             781.1          6.822430   \n",
       "964             3311.0          0.558442             404.2          4.574468   \n",
       "\n",
       "      cloud_x_winddirection  cloud_/_winddirection  cloud_x_windspeed  \\\n",
       "162                 16940.0               0.350000             1070.3   \n",
       "1873                 3200.0               2.000000              992.0   \n",
       "1366                 4080.0               0.637500             2004.3   \n",
       "554                 15330.0               0.347619              927.1   \n",
       "964                  9460.0               0.195455             1247.0   \n",
       "\n",
       "      cloud_/_windspeed  \n",
       "162            5.539568  \n",
       "1873           6.451613  \n",
       "1366           1.297710  \n",
       "554            5.748031  \n",
       "964            1.482759  \n",
       "\n",
       "[5 rows x 31 columns]"
      ]
     },
     "metadata": {},
     "output_type": "display_data"
    },
    {
     "data": {
      "text/plain": [
       "162     1\n",
       "1873    1\n",
       "1366    0\n",
       "554     0\n",
       "964     0\n",
       "Name: rainfall, dtype: int64"
      ]
     },
     "metadata": {},
     "output_type": "display_data"
    }
   ],
   "source": [
    "from sklearn.model_selection import train_test_split\n",
    "from tabpfn import TabPFNClassifier\n",
    "X_train, X_test, y_train, y_test = train_test_split(X, y, test_size = 0.2, random_state = 42)\n",
    "display(X_train.info(), y_train.info(), X_train.head(), y_train.head())"
   ]
  },
  {
   "cell_type": "code",
   "execution_count": 16,
   "id": "857fd16e",
   "metadata": {
    "execution": {
     "iopub.execute_input": "2025-03-03T19:57:35.902463Z",
     "iopub.status.busy": "2025-03-03T19:57:35.902098Z",
     "iopub.status.idle": "2025-03-03T19:57:35.937461Z",
     "shell.execute_reply": "2025-03-03T19:57:35.936259Z"
    },
    "papermill": {
     "duration": 0.04636,
     "end_time": "2025-03-03T19:57:35.939075",
     "exception": false,
     "start_time": "2025-03-03T19:57:35.892715",
     "status": "completed"
    },
    "tags": []
   },
   "outputs": [
    {
     "name": "stdout",
     "output_type": "stream",
     "text": [
      "0\n",
      "0\n",
      "0\n",
      "0\n"
     ]
    }
   ],
   "source": [
    "import numpy as np\n",
    "\n",
    "# had some inf values appear somehow, so fixing those here\n",
    "X_train = X_train.replace([np.inf, -np.inf], np.nan)\n",
    "X_train = X_train.fillna(X_train.median())\n",
    "X_test = X_test.replace([np.inf, -np.inf], np.nan)\n",
    "X_test = X_test.fillna(X_test.median())\n",
    "print(np.isinf(X_train).sum().sum())\n",
    "print(X_train.isna().sum().sum())\n",
    "print(np.isinf(X_test).sum().sum())\n",
    "print(X_test.isna().sum().sum())"
   ]
  },
  {
   "cell_type": "code",
   "execution_count": 17,
   "id": "d7b60cf7",
   "metadata": {
    "execution": {
     "iopub.execute_input": "2025-03-03T19:57:35.957775Z",
     "iopub.status.busy": "2025-03-03T19:57:35.957397Z",
     "iopub.status.idle": "2025-03-03T19:57:35.968583Z",
     "shell.execute_reply": "2025-03-03T19:57:35.967536Z"
    },
    "papermill": {
     "duration": 0.022819,
     "end_time": "2025-03-03T19:57:35.970554",
     "exception": false,
     "start_time": "2025-03-03T19:57:35.947735",
     "status": "completed"
    },
    "tags": []
   },
   "outputs": [],
   "source": [
    "from sklearn.preprocessing import StandardScaler\n",
    "scaler = StandardScaler()\n",
    "X_train = pd.DataFrame(scaler.fit_transform(X_train), columns=X_train.columns)"
   ]
  },
  {
   "cell_type": "code",
   "execution_count": 18,
   "id": "47294022",
   "metadata": {
    "execution": {
     "iopub.execute_input": "2025-03-03T19:57:35.989450Z",
     "iopub.status.busy": "2025-03-03T19:57:35.989072Z",
     "iopub.status.idle": "2025-03-03T19:57:35.992557Z",
     "shell.execute_reply": "2025-03-03T19:57:35.991719Z"
    },
    "papermill": {
     "duration": 0.01463,
     "end_time": "2025-03-03T19:57:35.994110",
     "exception": false,
     "start_time": "2025-03-03T19:57:35.979480",
     "status": "completed"
    },
    "tags": []
   },
   "outputs": [],
   "source": [
    "#model = TabPFNClassifier()\n",
    "#model.fit(X_train, y_train)"
   ]
  },
  {
   "cell_type": "code",
   "execution_count": 19,
   "id": "0642cf84",
   "metadata": {
    "execution": {
     "iopub.execute_input": "2025-03-03T19:57:36.013096Z",
     "iopub.status.busy": "2025-03-03T19:57:36.012718Z",
     "iopub.status.idle": "2025-03-03T19:57:36.016422Z",
     "shell.execute_reply": "2025-03-03T19:57:36.015360Z"
    },
    "papermill": {
     "duration": 0.014969,
     "end_time": "2025-03-03T19:57:36.017998",
     "exception": false,
     "start_time": "2025-03-03T19:57:36.003029",
     "status": "completed"
    },
    "tags": []
   },
   "outputs": [],
   "source": [
    "#probs = model.predict_proba(X_test)\n",
    "#print(\"ROC AUC: \", roc_auc_score(y_test, probs[:, 1]))\n",
    "#ROC AUC:  0.7037222412475963"
   ]
  },
  {
   "cell_type": "markdown",
   "id": "a1420109",
   "metadata": {
    "papermill": {
     "duration": 0.008565,
     "end_time": "2025-03-03T19:57:36.035372",
     "exception": false,
     "start_time": "2025-03-03T19:57:36.026807",
     "status": "completed"
    },
    "tags": []
   },
   "source": [
    "### Looks like making some basically random features hurt performance quite a bit. I'll put more thought into it eventually\n",
    "### Never used TabPFN before, but from my understanding its better for smaller datasets so adding a ton of features might hurt it more than help it. If I wanna add more features I will most likely need to look into other models that are better suited for higher dimensional data and smarter features"
   ]
  },
  {
   "cell_type": "code",
   "execution_count": null,
   "id": "561fd5ac",
   "metadata": {
    "papermill": {
     "duration": 0.008239,
     "end_time": "2025-03-03T19:57:36.052094",
     "exception": false,
     "start_time": "2025-03-03T19:57:36.043855",
     "status": "completed"
    },
    "tags": []
   },
   "outputs": [],
   "source": []
  }
 ],
 "metadata": {
  "kaggle": {
   "accelerator": "none",
   "dataSources": [
    {
     "databundleVersionId": 11251744,
     "sourceId": 91714,
     "sourceType": "competition"
    }
   ],
   "dockerImageVersionId": 30918,
   "isGpuEnabled": false,
   "isInternetEnabled": true,
   "language": "python",
   "sourceType": "notebook"
  },
  "kernelspec": {
   "display_name": "Python 3",
   "language": "python",
   "name": "python3"
  },
  "language_info": {
   "codemirror_mode": {
    "name": "ipython",
    "version": 3
   },
   "file_extension": ".py",
   "mimetype": "text/x-python",
   "name": "python",
   "nbconvert_exporter": "python",
   "pygments_lexer": "ipython3",
   "version": "3.10.12"
  },
  "papermill": {
   "default_parameters": {},
   "duration": 745.030697,
   "end_time": "2025-03-03T19:57:39.562557",
   "environment_variables": {},
   "exception": null,
   "input_path": "__notebook__.ipynb",
   "output_path": "__notebook__.ipynb",
   "parameters": {},
   "start_time": "2025-03-03T19:45:14.531860",
   "version": "2.6.0"
  },
  "widgets": {
   "application/vnd.jupyter.widget-state+json": {
    "state": {
     "028130bb91cf499080d017f4e79c58b2": {
      "model_module": "@jupyter-widgets/base",
      "model_module_version": "2.0.0",
      "model_name": "LayoutModel",
      "state": {
       "_model_module": "@jupyter-widgets/base",
       "_model_module_version": "2.0.0",
       "_model_name": "LayoutModel",
       "_view_count": null,
       "_view_module": "@jupyter-widgets/base",
       "_view_module_version": "2.0.0",
       "_view_name": "LayoutView",
       "align_content": null,
       "align_items": null,
       "align_self": null,
       "border_bottom": null,
       "border_left": null,
       "border_right": null,
       "border_top": null,
       "bottom": null,
       "display": null,
       "flex": null,
       "flex_flow": null,
       "grid_area": null,
       "grid_auto_columns": null,
       "grid_auto_flow": null,
       "grid_auto_rows": null,
       "grid_column": null,
       "grid_gap": null,
       "grid_row": null,
       "grid_template_areas": null,
       "grid_template_columns": null,
       "grid_template_rows": null,
       "height": null,
       "justify_content": null,
       "justify_items": null,
       "left": null,
       "margin": null,
       "max_height": null,
       "max_width": null,
       "min_height": null,
       "min_width": null,
       "object_fit": null,
       "object_position": null,
       "order": null,
       "overflow": null,
       "padding": null,
       "right": null,
       "top": null,
       "visibility": null,
       "width": null
      }
     },
     "0d5a1a03ebe742f38eb03c4e98ca4d2f": {
      "model_module": "@jupyter-widgets/controls",
      "model_module_version": "2.0.0",
      "model_name": "FloatProgressModel",
      "state": {
       "_dom_classes": [],
       "_model_module": "@jupyter-widgets/controls",
       "_model_module_version": "2.0.0",
       "_model_name": "FloatProgressModel",
       "_view_count": null,
       "_view_module": "@jupyter-widgets/controls",
       "_view_module_version": "2.0.0",
       "_view_name": "ProgressView",
       "bar_style": "success",
       "description": "",
       "description_allow_html": false,
       "layout": "IPY_MODEL_29578d8b02bb44ef8bd2d7d6d2096c9f",
       "max": 37.0,
       "min": 0.0,
       "orientation": "horizontal",
       "style": "IPY_MODEL_8650ebf1207b407894e0a2afcbfe40e0",
       "tabbable": null,
       "tooltip": null,
       "value": 37.0
      }
     },
     "0dff7e4bdae045a3b0eaacb53b27fbe5": {
      "model_module": "@jupyter-widgets/controls",
      "model_module_version": "2.0.0",
      "model_name": "HTMLModel",
      "state": {
       "_dom_classes": [],
       "_model_module": "@jupyter-widgets/controls",
       "_model_module_version": "2.0.0",
       "_model_name": "HTMLModel",
       "_view_count": null,
       "_view_module": "@jupyter-widgets/controls",
       "_view_module_version": "2.0.0",
       "_view_name": "HTMLView",
       "description": "",
       "description_allow_html": false,
       "layout": "IPY_MODEL_e246f8bc71d9449197eef05d15f06f84",
       "placeholder": "​",
       "style": "IPY_MODEL_91dc0d3d0d134d7eb0c3fdaee2eebce7",
       "tabbable": null,
       "tooltip": null,
       "value": "config.json: 100%"
      }
     },
     "23d706ad358f486faa7f8db5d513578e": {
      "model_module": "@jupyter-widgets/controls",
      "model_module_version": "2.0.0",
      "model_name": "HTMLStyleModel",
      "state": {
       "_model_module": "@jupyter-widgets/controls",
       "_model_module_version": "2.0.0",
       "_model_name": "HTMLStyleModel",
       "_view_count": null,
       "_view_module": "@jupyter-widgets/base",
       "_view_module_version": "2.0.0",
       "_view_name": "StyleView",
       "background": null,
       "description_width": "",
       "font_size": null,
       "text_color": null
      }
     },
     "2663505528324943b361682278e2085e": {
      "model_module": "@jupyter-widgets/controls",
      "model_module_version": "2.0.0",
      "model_name": "ProgressStyleModel",
      "state": {
       "_model_module": "@jupyter-widgets/controls",
       "_model_module_version": "2.0.0",
       "_model_name": "ProgressStyleModel",
       "_view_count": null,
       "_view_module": "@jupyter-widgets/base",
       "_view_module_version": "2.0.0",
       "_view_name": "StyleView",
       "bar_color": null,
       "description_width": ""
      }
     },
     "270accb8ea3e4ab18773eaab08d5ebd0": {
      "model_module": "@jupyter-widgets/controls",
      "model_module_version": "2.0.0",
      "model_name": "HBoxModel",
      "state": {
       "_dom_classes": [],
       "_model_module": "@jupyter-widgets/controls",
       "_model_module_version": "2.0.0",
       "_model_name": "HBoxModel",
       "_view_count": null,
       "_view_module": "@jupyter-widgets/controls",
       "_view_module_version": "2.0.0",
       "_view_name": "HBoxView",
       "box_style": "",
       "children": [
        "IPY_MODEL_c1364275eb4143b7b77d36f7a57f5388",
        "IPY_MODEL_8ddc7d91d37f44f8bfd00ae4035bfd06",
        "IPY_MODEL_4474a0017d82405abacfc283e18ca0c3"
       ],
       "layout": "IPY_MODEL_afeef201c4ab44749880aa070e08345a",
       "tabbable": null,
       "tooltip": null
      }
     },
     "29578d8b02bb44ef8bd2d7d6d2096c9f": {
      "model_module": "@jupyter-widgets/base",
      "model_module_version": "2.0.0",
      "model_name": "LayoutModel",
      "state": {
       "_model_module": "@jupyter-widgets/base",
       "_model_module_version": "2.0.0",
       "_model_name": "LayoutModel",
       "_view_count": null,
       "_view_module": "@jupyter-widgets/base",
       "_view_module_version": "2.0.0",
       "_view_name": "LayoutView",
       "align_content": null,
       "align_items": null,
       "align_self": null,
       "border_bottom": null,
       "border_left": null,
       "border_right": null,
       "border_top": null,
       "bottom": null,
       "display": null,
       "flex": null,
       "flex_flow": null,
       "grid_area": null,
       "grid_auto_columns": null,
       "grid_auto_flow": null,
       "grid_auto_rows": null,
       "grid_column": null,
       "grid_gap": null,
       "grid_row": null,
       "grid_template_areas": null,
       "grid_template_columns": null,
       "grid_template_rows": null,
       "height": null,
       "justify_content": null,
       "justify_items": null,
       "left": null,
       "margin": null,
       "max_height": null,
       "max_width": null,
       "min_height": null,
       "min_width": null,
       "object_fit": null,
       "object_position": null,
       "order": null,
       "overflow": null,
       "padding": null,
       "right": null,
       "top": null,
       "visibility": null,
       "width": null
      }
     },
     "2d7d011e6d1748c48014468fc70366f4": {
      "model_module": "@jupyter-widgets/base",
      "model_module_version": "2.0.0",
      "model_name": "LayoutModel",
      "state": {
       "_model_module": "@jupyter-widgets/base",
       "_model_module_version": "2.0.0",
       "_model_name": "LayoutModel",
       "_view_count": null,
       "_view_module": "@jupyter-widgets/base",
       "_view_module_version": "2.0.0",
       "_view_name": "LayoutView",
       "align_content": null,
       "align_items": null,
       "align_self": null,
       "border_bottom": null,
       "border_left": null,
       "border_right": null,
       "border_top": null,
       "bottom": null,
       "display": null,
       "flex": null,
       "flex_flow": null,
       "grid_area": null,
       "grid_auto_columns": null,
       "grid_auto_flow": null,
       "grid_auto_rows": null,
       "grid_column": null,
       "grid_gap": null,
       "grid_row": null,
       "grid_template_areas": null,
       "grid_template_columns": null,
       "grid_template_rows": null,
       "height": null,
       "justify_content": null,
       "justify_items": null,
       "left": null,
       "margin": null,
       "max_height": null,
       "max_width": null,
       "min_height": null,
       "min_width": null,
       "object_fit": null,
       "object_position": null,
       "order": null,
       "overflow": null,
       "padding": null,
       "right": null,
       "top": null,
       "visibility": null,
       "width": null
      }
     },
     "3c4c685e3a8643ca96db21092ac452c4": {
      "model_module": "@jupyter-widgets/base",
      "model_module_version": "2.0.0",
      "model_name": "LayoutModel",
      "state": {
       "_model_module": "@jupyter-widgets/base",
       "_model_module_version": "2.0.0",
       "_model_name": "LayoutModel",
       "_view_count": null,
       "_view_module": "@jupyter-widgets/base",
       "_view_module_version": "2.0.0",
       "_view_name": "LayoutView",
       "align_content": null,
       "align_items": null,
       "align_self": null,
       "border_bottom": null,
       "border_left": null,
       "border_right": null,
       "border_top": null,
       "bottom": null,
       "display": null,
       "flex": null,
       "flex_flow": null,
       "grid_area": null,
       "grid_auto_columns": null,
       "grid_auto_flow": null,
       "grid_auto_rows": null,
       "grid_column": null,
       "grid_gap": null,
       "grid_row": null,
       "grid_template_areas": null,
       "grid_template_columns": null,
       "grid_template_rows": null,
       "height": null,
       "justify_content": null,
       "justify_items": null,
       "left": null,
       "margin": null,
       "max_height": null,
       "max_width": null,
       "min_height": null,
       "min_width": null,
       "object_fit": null,
       "object_position": null,
       "order": null,
       "overflow": null,
       "padding": null,
       "right": null,
       "top": null,
       "visibility": null,
       "width": null
      }
     },
     "4474a0017d82405abacfc283e18ca0c3": {
      "model_module": "@jupyter-widgets/controls",
      "model_module_version": "2.0.0",
      "model_name": "HTMLModel",
      "state": {
       "_dom_classes": [],
       "_model_module": "@jupyter-widgets/controls",
       "_model_module_version": "2.0.0",
       "_model_name": "HTMLModel",
       "_view_count": null,
       "_view_module": "@jupyter-widgets/controls",
       "_view_module_version": "2.0.0",
       "_view_name": "HTMLView",
       "description": "",
       "description_allow_html": false,
       "layout": "IPY_MODEL_b09280524a874bc68188fc9a8e1f8103",
       "placeholder": "​",
       "style": "IPY_MODEL_bb4f0bd5e28f4c3a8449e463f5fce2de",
       "tabbable": null,
       "tooltip": null,
       "value": " 29.0M/29.0M [00:00&lt;00:00, 161MB/s]"
      }
     },
     "4f6f64d552bc4e6abcb5906e98eb8c38": {
      "model_module": "@jupyter-widgets/controls",
      "model_module_version": "2.0.0",
      "model_name": "HTMLStyleModel",
      "state": {
       "_model_module": "@jupyter-widgets/controls",
       "_model_module_version": "2.0.0",
       "_model_name": "HTMLStyleModel",
       "_view_count": null,
       "_view_module": "@jupyter-widgets/base",
       "_view_module_version": "2.0.0",
       "_view_name": "StyleView",
       "background": null,
       "description_width": "",
       "font_size": null,
       "text_color": null
      }
     },
     "5425ecf9473d4971bb87d6e0da033fd8": {
      "model_module": "@jupyter-widgets/controls",
      "model_module_version": "2.0.0",
      "model_name": "HBoxModel",
      "state": {
       "_dom_classes": [],
       "_model_module": "@jupyter-widgets/controls",
       "_model_module_version": "2.0.0",
       "_model_name": "HBoxModel",
       "_view_count": null,
       "_view_module": "@jupyter-widgets/controls",
       "_view_module_version": "2.0.0",
       "_view_name": "HBoxView",
       "box_style": "",
       "children": [
        "IPY_MODEL_0dff7e4bdae045a3b0eaacb53b27fbe5",
        "IPY_MODEL_0d5a1a03ebe742f38eb03c4e98ca4d2f",
        "IPY_MODEL_95525a4dbdb64d5e8934b50f8827eb32"
       ],
       "layout": "IPY_MODEL_ad516f12058e4fd5bf249461d62f26c3",
       "tabbable": null,
       "tooltip": null
      }
     },
     "8650ebf1207b407894e0a2afcbfe40e0": {
      "model_module": "@jupyter-widgets/controls",
      "model_module_version": "2.0.0",
      "model_name": "ProgressStyleModel",
      "state": {
       "_model_module": "@jupyter-widgets/controls",
       "_model_module_version": "2.0.0",
       "_model_name": "ProgressStyleModel",
       "_view_count": null,
       "_view_module": "@jupyter-widgets/base",
       "_view_module_version": "2.0.0",
       "_view_name": "StyleView",
       "bar_color": null,
       "description_width": ""
      }
     },
     "8ddc7d91d37f44f8bfd00ae4035bfd06": {
      "model_module": "@jupyter-widgets/controls",
      "model_module_version": "2.0.0",
      "model_name": "FloatProgressModel",
      "state": {
       "_dom_classes": [],
       "_model_module": "@jupyter-widgets/controls",
       "_model_module_version": "2.0.0",
       "_model_name": "FloatProgressModel",
       "_view_count": null,
       "_view_module": "@jupyter-widgets/controls",
       "_view_module_version": "2.0.0",
       "_view_name": "ProgressView",
       "bar_style": "success",
       "description": "",
       "description_allow_html": false,
       "layout": "IPY_MODEL_3c4c685e3a8643ca96db21092ac452c4",
       "max": 29016968.0,
       "min": 0.0,
       "orientation": "horizontal",
       "style": "IPY_MODEL_2663505528324943b361682278e2085e",
       "tabbable": null,
       "tooltip": null,
       "value": 29016968.0
      }
     },
     "91dc0d3d0d134d7eb0c3fdaee2eebce7": {
      "model_module": "@jupyter-widgets/controls",
      "model_module_version": "2.0.0",
      "model_name": "HTMLStyleModel",
      "state": {
       "_model_module": "@jupyter-widgets/controls",
       "_model_module_version": "2.0.0",
       "_model_name": "HTMLStyleModel",
       "_view_count": null,
       "_view_module": "@jupyter-widgets/base",
       "_view_module_version": "2.0.0",
       "_view_name": "StyleView",
       "background": null,
       "description_width": "",
       "font_size": null,
       "text_color": null
      }
     },
     "95525a4dbdb64d5e8934b50f8827eb32": {
      "model_module": "@jupyter-widgets/controls",
      "model_module_version": "2.0.0",
      "model_name": "HTMLModel",
      "state": {
       "_dom_classes": [],
       "_model_module": "@jupyter-widgets/controls",
       "_model_module_version": "2.0.0",
       "_model_name": "HTMLModel",
       "_view_count": null,
       "_view_module": "@jupyter-widgets/controls",
       "_view_module_version": "2.0.0",
       "_view_name": "HTMLView",
       "description": "",
       "description_allow_html": false,
       "layout": "IPY_MODEL_028130bb91cf499080d017f4e79c58b2",
       "placeholder": "​",
       "style": "IPY_MODEL_4f6f64d552bc4e6abcb5906e98eb8c38",
       "tabbable": null,
       "tooltip": null,
       "value": " 37.0/37.0 [00:00&lt;00:00, 2.85kB/s]"
      }
     },
     "ad516f12058e4fd5bf249461d62f26c3": {
      "model_module": "@jupyter-widgets/base",
      "model_module_version": "2.0.0",
      "model_name": "LayoutModel",
      "state": {
       "_model_module": "@jupyter-widgets/base",
       "_model_module_version": "2.0.0",
       "_model_name": "LayoutModel",
       "_view_count": null,
       "_view_module": "@jupyter-widgets/base",
       "_view_module_version": "2.0.0",
       "_view_name": "LayoutView",
       "align_content": null,
       "align_items": null,
       "align_self": null,
       "border_bottom": null,
       "border_left": null,
       "border_right": null,
       "border_top": null,
       "bottom": null,
       "display": null,
       "flex": null,
       "flex_flow": null,
       "grid_area": null,
       "grid_auto_columns": null,
       "grid_auto_flow": null,
       "grid_auto_rows": null,
       "grid_column": null,
       "grid_gap": null,
       "grid_row": null,
       "grid_template_areas": null,
       "grid_template_columns": null,
       "grid_template_rows": null,
       "height": null,
       "justify_content": null,
       "justify_items": null,
       "left": null,
       "margin": null,
       "max_height": null,
       "max_width": null,
       "min_height": null,
       "min_width": null,
       "object_fit": null,
       "object_position": null,
       "order": null,
       "overflow": null,
       "padding": null,
       "right": null,
       "top": null,
       "visibility": null,
       "width": null
      }
     },
     "afeef201c4ab44749880aa070e08345a": {
      "model_module": "@jupyter-widgets/base",
      "model_module_version": "2.0.0",
      "model_name": "LayoutModel",
      "state": {
       "_model_module": "@jupyter-widgets/base",
       "_model_module_version": "2.0.0",
       "_model_name": "LayoutModel",
       "_view_count": null,
       "_view_module": "@jupyter-widgets/base",
       "_view_module_version": "2.0.0",
       "_view_name": "LayoutView",
       "align_content": null,
       "align_items": null,
       "align_self": null,
       "border_bottom": null,
       "border_left": null,
       "border_right": null,
       "border_top": null,
       "bottom": null,
       "display": null,
       "flex": null,
       "flex_flow": null,
       "grid_area": null,
       "grid_auto_columns": null,
       "grid_auto_flow": null,
       "grid_auto_rows": null,
       "grid_column": null,
       "grid_gap": null,
       "grid_row": null,
       "grid_template_areas": null,
       "grid_template_columns": null,
       "grid_template_rows": null,
       "height": null,
       "justify_content": null,
       "justify_items": null,
       "left": null,
       "margin": null,
       "max_height": null,
       "max_width": null,
       "min_height": null,
       "min_width": null,
       "object_fit": null,
       "object_position": null,
       "order": null,
       "overflow": null,
       "padding": null,
       "right": null,
       "top": null,
       "visibility": null,
       "width": null
      }
     },
     "b09280524a874bc68188fc9a8e1f8103": {
      "model_module": "@jupyter-widgets/base",
      "model_module_version": "2.0.0",
      "model_name": "LayoutModel",
      "state": {
       "_model_module": "@jupyter-widgets/base",
       "_model_module_version": "2.0.0",
       "_model_name": "LayoutModel",
       "_view_count": null,
       "_view_module": "@jupyter-widgets/base",
       "_view_module_version": "2.0.0",
       "_view_name": "LayoutView",
       "align_content": null,
       "align_items": null,
       "align_self": null,
       "border_bottom": null,
       "border_left": null,
       "border_right": null,
       "border_top": null,
       "bottom": null,
       "display": null,
       "flex": null,
       "flex_flow": null,
       "grid_area": null,
       "grid_auto_columns": null,
       "grid_auto_flow": null,
       "grid_auto_rows": null,
       "grid_column": null,
       "grid_gap": null,
       "grid_row": null,
       "grid_template_areas": null,
       "grid_template_columns": null,
       "grid_template_rows": null,
       "height": null,
       "justify_content": null,
       "justify_items": null,
       "left": null,
       "margin": null,
       "max_height": null,
       "max_width": null,
       "min_height": null,
       "min_width": null,
       "object_fit": null,
       "object_position": null,
       "order": null,
       "overflow": null,
       "padding": null,
       "right": null,
       "top": null,
       "visibility": null,
       "width": null
      }
     },
     "bb4f0bd5e28f4c3a8449e463f5fce2de": {
      "model_module": "@jupyter-widgets/controls",
      "model_module_version": "2.0.0",
      "model_name": "HTMLStyleModel",
      "state": {
       "_model_module": "@jupyter-widgets/controls",
       "_model_module_version": "2.0.0",
       "_model_name": "HTMLStyleModel",
       "_view_count": null,
       "_view_module": "@jupyter-widgets/base",
       "_view_module_version": "2.0.0",
       "_view_name": "StyleView",
       "background": null,
       "description_width": "",
       "font_size": null,
       "text_color": null
      }
     },
     "c1364275eb4143b7b77d36f7a57f5388": {
      "model_module": "@jupyter-widgets/controls",
      "model_module_version": "2.0.0",
      "model_name": "HTMLModel",
      "state": {
       "_dom_classes": [],
       "_model_module": "@jupyter-widgets/controls",
       "_model_module_version": "2.0.0",
       "_model_name": "HTMLModel",
       "_view_count": null,
       "_view_module": "@jupyter-widgets/controls",
       "_view_module_version": "2.0.0",
       "_view_name": "HTMLView",
       "description": "",
       "description_allow_html": false,
       "layout": "IPY_MODEL_2d7d011e6d1748c48014468fc70366f4",
       "placeholder": "​",
       "style": "IPY_MODEL_23d706ad358f486faa7f8db5d513578e",
       "tabbable": null,
       "tooltip": null,
       "value": "tabpfn-v2-classifier.ckpt: 100%"
      }
     },
     "e246f8bc71d9449197eef05d15f06f84": {
      "model_module": "@jupyter-widgets/base",
      "model_module_version": "2.0.0",
      "model_name": "LayoutModel",
      "state": {
       "_model_module": "@jupyter-widgets/base",
       "_model_module_version": "2.0.0",
       "_model_name": "LayoutModel",
       "_view_count": null,
       "_view_module": "@jupyter-widgets/base",
       "_view_module_version": "2.0.0",
       "_view_name": "LayoutView",
       "align_content": null,
       "align_items": null,
       "align_self": null,
       "border_bottom": null,
       "border_left": null,
       "border_right": null,
       "border_top": null,
       "bottom": null,
       "display": null,
       "flex": null,
       "flex_flow": null,
       "grid_area": null,
       "grid_auto_columns": null,
       "grid_auto_flow": null,
       "grid_auto_rows": null,
       "grid_column": null,
       "grid_gap": null,
       "grid_row": null,
       "grid_template_areas": null,
       "grid_template_columns": null,
       "grid_template_rows": null,
       "height": null,
       "justify_content": null,
       "justify_items": null,
       "left": null,
       "margin": null,
       "max_height": null,
       "max_width": null,
       "min_height": null,
       "min_width": null,
       "object_fit": null,
       "object_position": null,
       "order": null,
       "overflow": null,
       "padding": null,
       "right": null,
       "top": null,
       "visibility": null,
       "width": null
      }
     }
    },
    "version_major": 2,
    "version_minor": 0
   }
  }
 },
 "nbformat": 4,
 "nbformat_minor": 5
}
